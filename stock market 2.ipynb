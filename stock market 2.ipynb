{
  "nbformat": 4,
  "nbformat_minor": 0,
  "metadata": {
    "colab": {
      "name": "ml last report",
      "provenance": [],
      "collapsed_sections": []
    },
    "kernelspec": {
      "name": "python3",
      "display_name": "Python 3"
    }
  },
  "cells": [
    {
      "cell_type": "code",
      "metadata": {
        "id": "Vff_vgYRuZQG"
      },
      "source": [
        "import math\n",
        "from sklearn.model_selection import train_test_split\n",
        "from sklearn.linear_model import LinearRegression\n",
        "from  sklearn import metrics"
      ],
      "execution_count": null,
      "outputs": []
    },
    {
      "cell_type": "code",
      "metadata": {
        "id": "hy45rOyquii0"
      },
      "source": [
        "import pandas as pd\n",
        "import matplotlib.pyplot as plt"
      ],
      "execution_count": null,
      "outputs": []
    },
    {
      "cell_type": "code",
      "metadata": {
        "id": "A-Tbp3GauooL"
      },
      "source": [
        "df = pd.read_csv('/content/AAPL.csv')"
      ],
      "execution_count": null,
      "outputs": []
    },
    {
      "cell_type": "code",
      "metadata": {
        "colab": {
          "base_uri": "https://localhost:8080/",
          "height": 304
        },
        "id": "M3_D8tAhuxxm",
        "outputId": "a5e106fa-b649-4aab-8720-584c45bce15d"
      },
      "source": [
        "df.describe()"
      ],
      "execution_count": null,
      "outputs": [
        {
          "output_type": "execute_result",
          "data": {
            "text/html": [
              "<div>\n",
              "<style scoped>\n",
              "    .dataframe tbody tr th:only-of-type {\n",
              "        vertical-align: middle;\n",
              "    }\n",
              "\n",
              "    .dataframe tbody tr th {\n",
              "        vertical-align: top;\n",
              "    }\n",
              "\n",
              "    .dataframe thead th {\n",
              "        text-align: right;\n",
              "    }\n",
              "</style>\n",
              "<table border=\"1\" class=\"dataframe\">\n",
              "  <thead>\n",
              "    <tr style=\"text-align: right;\">\n",
              "      <th></th>\n",
              "      <th>close</th>\n",
              "      <th>high</th>\n",
              "      <th>low</th>\n",
              "      <th>open</th>\n",
              "      <th>volume</th>\n",
              "      <th>adjClose</th>\n",
              "      <th>adjHigh</th>\n",
              "      <th>adjLow</th>\n",
              "      <th>adjOpen</th>\n",
              "      <th>adjVolume</th>\n",
              "      <th>divCash</th>\n",
              "      <th>splitFactor</th>\n",
              "    </tr>\n",
              "  </thead>\n",
              "  <tbody>\n",
              "    <tr>\n",
              "      <th>count</th>\n",
              "      <td>1257.000000</td>\n",
              "      <td>1257.000000</td>\n",
              "      <td>1257.000000</td>\n",
              "      <td>1257.000000</td>\n",
              "      <td>1.257000e+03</td>\n",
              "      <td>1257.000000</td>\n",
              "      <td>1257.000000</td>\n",
              "      <td>1257.000000</td>\n",
              "      <td>1257.000000</td>\n",
              "      <td>1.257000e+03</td>\n",
              "      <td>1257.000000</td>\n",
              "      <td>1257.000000</td>\n",
              "    </tr>\n",
              "    <tr>\n",
              "      <th>mean</th>\n",
              "      <td>184.165915</td>\n",
              "      <td>185.911765</td>\n",
              "      <td>182.179642</td>\n",
              "      <td>183.959714</td>\n",
              "      <td>4.353174e+07</td>\n",
              "      <td>56.228417</td>\n",
              "      <td>56.816318</td>\n",
              "      <td>55.582090</td>\n",
              "      <td>56.195162</td>\n",
              "      <td>1.293106e+08</td>\n",
              "      <td>0.010223</td>\n",
              "      <td>1.002387</td>\n",
              "    </tr>\n",
              "    <tr>\n",
              "      <th>std</th>\n",
              "      <td>74.362898</td>\n",
              "      <td>75.194920</td>\n",
              "      <td>73.191226</td>\n",
              "      <td>74.077119</td>\n",
              "      <td>3.626869e+07</td>\n",
              "      <td>30.919635</td>\n",
              "      <td>31.394687</td>\n",
              "      <td>30.412277</td>\n",
              "      <td>30.951143</td>\n",
              "      <td>5.866446e+07</td>\n",
              "      <td>0.083169</td>\n",
              "      <td>0.084616</td>\n",
              "    </tr>\n",
              "    <tr>\n",
              "      <th>min</th>\n",
              "      <td>90.340000</td>\n",
              "      <td>91.670000</td>\n",
              "      <td>89.470000</td>\n",
              "      <td>90.000000</td>\n",
              "      <td>1.136204e+07</td>\n",
              "      <td>21.131248</td>\n",
              "      <td>21.442345</td>\n",
              "      <td>20.927748</td>\n",
              "      <td>21.051719</td>\n",
              "      <td>4.544818e+07</td>\n",
              "      <td>0.000000</td>\n",
              "      <td>1.000000</td>\n",
              "    </tr>\n",
              "    <tr>\n",
              "      <th>25%</th>\n",
              "      <td>128.750000</td>\n",
              "      <td>129.995000</td>\n",
              "      <td>127.000000</td>\n",
              "      <td>128.410000</td>\n",
              "      <td>2.357951e+07</td>\n",
              "      <td>36.414450</td>\n",
              "      <td>36.726724</td>\n",
              "      <td>36.185608</td>\n",
              "      <td>36.472584</td>\n",
              "      <td>9.033822e+07</td>\n",
              "      <td>0.000000</td>\n",
              "      <td>1.000000</td>\n",
              "    </tr>\n",
              "    <tr>\n",
              "      <th>50%</th>\n",
              "      <td>170.420000</td>\n",
              "      <td>171.870000</td>\n",
              "      <td>169.220000</td>\n",
              "      <td>170.430000</td>\n",
              "      <td>3.082781e+07</td>\n",
              "      <td>45.395267</td>\n",
              "      <td>45.637375</td>\n",
              "      <td>45.032105</td>\n",
              "      <td>45.334740</td>\n",
              "      <td>1.134594e+08</td>\n",
              "      <td>0.000000</td>\n",
              "      <td>1.000000</td>\n",
              "    </tr>\n",
              "    <tr>\n",
              "      <th>75%</th>\n",
              "      <td>209.680000</td>\n",
              "      <td>212.050000</td>\n",
              "      <td>207.700000</td>\n",
              "      <td>209.880000</td>\n",
              "      <td>4.514281e+07</td>\n",
              "      <td>66.577379</td>\n",
              "      <td>67.403488</td>\n",
              "      <td>65.796389</td>\n",
              "      <td>66.474499</td>\n",
              "      <td>1.483474e+08</td>\n",
              "      <td>0.000000</td>\n",
              "      <td>1.000000</td>\n",
              "    </tr>\n",
              "    <tr>\n",
              "      <th>max</th>\n",
              "      <td>506.090000</td>\n",
              "      <td>515.140000</td>\n",
              "      <td>500.330000</td>\n",
              "      <td>514.790000</td>\n",
              "      <td>3.326072e+08</td>\n",
              "      <td>142.945728</td>\n",
              "      <td>144.872839</td>\n",
              "      <td>141.158407</td>\n",
              "      <td>143.385069</td>\n",
              "      <td>4.584086e+08</td>\n",
              "      <td>0.820000</td>\n",
              "      <td>4.000000</td>\n",
              "    </tr>\n",
              "  </tbody>\n",
              "</table>\n",
              "</div>"
            ],
            "text/plain": [
              "             close         high  ...      divCash  splitFactor\n",
              "count  1257.000000  1257.000000  ...  1257.000000  1257.000000\n",
              "mean    184.165915   185.911765  ...     0.010223     1.002387\n",
              "std      74.362898    75.194920  ...     0.083169     0.084616\n",
              "min      90.340000    91.670000  ...     0.000000     1.000000\n",
              "25%     128.750000   129.995000  ...     0.000000     1.000000\n",
              "50%     170.420000   171.870000  ...     0.000000     1.000000\n",
              "75%     209.680000   212.050000  ...     0.000000     1.000000\n",
              "max     506.090000   515.140000  ...     0.820000     4.000000\n",
              "\n",
              "[8 rows x 12 columns]"
            ]
          },
          "metadata": {
            "tags": []
          },
          "execution_count": 5
        }
      ]
    },
    {
      "cell_type": "code",
      "metadata": {
        "id": "GhjP8dS0u-F2"
      },
      "source": [
        "x = df[['high','open','low','volume']].values"
      ],
      "execution_count": null,
      "outputs": []
    },
    {
      "cell_type": "code",
      "metadata": {
        "id": "4j9BlZFvns3R"
      },
      "source": [
        "y = df['close'].values"
      ],
      "execution_count": null,
      "outputs": []
    },
    {
      "cell_type": "code",
      "metadata": {
        "id": "YzatlR03vFPD"
      },
      "source": [
        "x_train,x_test,y_train,y_test = train_test_split(x,y,test_size=0.2,random_state=0)"
      ],
      "execution_count": null,
      "outputs": []
    },
    {
      "cell_type": "code",
      "metadata": {
        "id": "FF2up1LLvQxK"
      },
      "source": [
        "  regressor = LinearRegression()"
      ],
      "execution_count": null,
      "outputs": []
    },
    {
      "cell_type": "code",
      "metadata": {
        "id": "q0yWLOc0vaor",
        "colab": {
          "base_uri": "https://localhost:8080/"
        },
        "outputId": "afd9977e-2396-4aaa-b8c9-95c4e124926c"
      },
      "source": [
        "  regressor.fit(x_train,y_train)"
      ],
      "execution_count": null,
      "outputs": [
        {
          "output_type": "execute_result",
          "data": {
            "text/plain": [
              "LinearRegression(copy_X=True, fit_intercept=True, n_jobs=None, normalize=False)"
            ]
          },
          "metadata": {
            "tags": []
          },
          "execution_count": 10
        }
      ]
    },
    {
      "cell_type": "code",
      "metadata": {
        "id": "s04S2-g4vcBy",
        "colab": {
          "base_uri": "https://localhost:8080/"
        },
        "outputId": "5a53b8bd-a037-4a39-ead5-1e2ccae6ce77"
      },
      "source": [
        "print(regressor.coef_)"
      ],
      "execution_count": null,
      "outputs": [
        {
          "output_type": "stream",
          "text": [
            "[ 8.47537532e-01 -6.01322140e-01  7.53586014e-01 -2.56430766e-10]\n"
          ],
          "name": "stdout"
        }
      ]
    },
    {
      "cell_type": "code",
      "metadata": {
        "id": "NVOarcpIvvsc",
        "colab": {
          "base_uri": "https://localhost:8080/"
        },
        "outputId": "9653d738-0559-470a-8a28-d781012ba3dd"
      },
      "source": [
        "print(regressor.intercept_)"
      ],
      "execution_count": null,
      "outputs": [
        {
          "output_type": "stream",
          "text": [
            "-0.03303505919060967\n"
          ],
          "name": "stdout"
        }
      ]
    },
    {
      "cell_type": "code",
      "metadata": {
        "id": "-42lSbjzv9ly"
      },
      "source": [
        "predicted = regressor.predict(x_test)"
      ],
      "execution_count": null,
      "outputs": []
    },
    {
      "cell_type": "code",
      "metadata": {
        "id": "cWfwQKhWwc49",
        "colab": {
          "base_uri": "https://localhost:8080/"
        },
        "outputId": "7162f085-ecad-4466-b146-fbab8062a0b8"
      },
      "source": [
        "print(predicted)"
      ],
      "execution_count": null,
      "outputs": [
        {
          "output_type": "stream",
          "text": [
            "[105.80508202 166.87828758  92.90954744 261.76221427 119.13175421\n",
            "  92.55382594 149.52160175 164.76224365 151.0565984  191.04119493\n",
            " 226.80958009 116.0138385  270.42577262 162.24213553 188.12592433\n",
            " 322.09502184 203.14712008 119.98227892 109.22019302 182.98409933\n",
            " 111.58332062 116.19499483 321.14040414 167.96835686 120.01109319\n",
            " 134.60916032 296.6493613  244.71649279 167.84768747 199.666222\n",
            " 109.78183371 204.39927977 129.17222709  95.58282504 124.2059382\n",
            " 218.00323891 267.68887358 128.40709471 180.75945722 143.82720697\n",
            " 154.33669739 181.71105845 280.43415091 129.43574839 225.80241082\n",
            " 110.41016145 195.56514957 461.53450604 112.01462754 123.24784376\n",
            " 317.10123159 143.27467534 188.36539026  96.13710257 209.65344793\n",
            " 160.77927449 173.69013755 110.96029898  99.67326956 109.46722767\n",
            " 146.69304032 182.43822487 125.12770917 177.88707734 168.99403195\n",
            " 258.69769041 132.89474128 191.05510262 322.60895556 446.41003359\n",
            " 110.64875363 116.57560334 213.27233692  94.69086622 110.2472087\n",
            " 172.07740849 120.92274855 168.93506824 169.59093948 176.06479793\n",
            " 141.65298577 149.46576291 145.23245308 295.73458946 150.61844851\n",
            " 179.48270772 171.76210712 193.1954039  252.1436061  174.70846772\n",
            " 129.76498588 207.46903768 319.84519268 246.34340691 348.9953216\n",
            " 122.05947017 120.14228181 220.35668977 164.1929534  140.18834529\n",
            " 172.15698637 113.50106109 197.66374952 129.86042934 187.17383179\n",
            " 199.08270616 216.95438367 202.01363414 173.1814799  105.82115768\n",
            " 194.02664265 178.52170533 317.49645194 126.48182838 179.57639794\n",
            " 115.08575741 213.06446572 121.01136864 144.86908753 219.55428003\n",
            " 107.99420444 186.84177022 323.77063645 119.84556982 369.67973682\n",
            " 175.61234921 159.50196845 123.01462986 105.02004199 109.22727286\n",
            " 114.85821599 132.91953352 157.24473639 170.93884743 221.27277102\n",
            " 188.35839276 316.36354262 160.21975216 264.68082026 204.62260586\n",
            " 217.79822124 274.21962509 178.45139715 122.20590118 171.9118088\n",
            " 141.79389189 154.13954932 182.33753399 173.18994686 161.66535487\n",
            " 195.1637847  324.26400675 167.22775143 202.941014   262.570648\n",
            " 201.56087182 160.24485713 296.96735064 166.51570415 130.66802899\n",
            " 318.86335886 310.47972657 207.22850405 339.30343734 317.30168415\n",
            " 191.57384559 194.798035   211.91528808 196.11507406 313.74067284\n",
            " 157.11142679 206.92859672 193.83923592 152.42463367 184.79659609\n",
            " 173.3724973  143.39695727  97.00970643 178.39157319 205.21116954\n",
            " 330.77649096 190.88228085 170.30247023 143.784808   175.67657386\n",
            " 146.62352642 140.09122933 116.11750844 274.40323543 220.07582374\n",
            " 196.00981828 500.57714622 144.40178502 134.19997922 202.30932463\n",
            "  95.65630829 187.86995004 126.83045173 389.17561032 495.31912834\n",
            " 210.37357483 173.92289734 160.15779134 158.58873674 139.06238027\n",
            " 219.28864358 306.63561451  97.20521354 265.63753348 173.99831879\n",
            " 110.42774765 378.08268366 152.91297317 222.31320692 173.73779315\n",
            " 128.87799411 170.48881938  96.25925613 127.85200617 169.52619075\n",
            "  96.77620897 226.51025048 206.30833781 188.92152957 173.89558915\n",
            " 141.55515563 375.61936977 343.34989897 227.90578613 122.35919184\n",
            " 158.85409233 229.028983   123.14217558 299.46578165 171.25744531\n",
            " 256.60729922 121.66691692 258.63019905  97.68487545 166.3865099\n",
            " 187.52367686  95.2332768  213.90095831 111.44792385 176.48716714\n",
            " 139.39098988 180.57865413 501.0370162  100.10391218 175.02540599\n",
            "  98.86515016 306.5400595 ]\n"
          ],
          "name": "stdout"
        }
      ]
    },
    {
      "cell_type": "code",
      "metadata": {
        "id": "fl8T5PxfwzaP"
      },
      "source": [
        "dframe =pd.DataFrame({'actual':y_test.flatten(),'predicted':predicted.flatten()})\n",
        " "
      ],
      "execution_count": null,
      "outputs": []
    },
    {
      "cell_type": "code",
      "metadata": {
        "id": "5u-kW1Oy8s--",
        "colab": {
          "base_uri": "https://localhost:8080/",
          "height": 787
        },
        "outputId": "8e243b71-ddb4-4c1f-ffea-85d1da9ec157"
      },
      "source": [
        "  dframe.head(25)\n"
      ],
      "execution_count": null,
      "outputs": [
        {
          "output_type": "execute_result",
          "data": {
            "text/html": [
              "<div>\n",
              "<style scoped>\n",
              "    .dataframe tbody tr th:only-of-type {\n",
              "        vertical-align: middle;\n",
              "    }\n",
              "\n",
              "    .dataframe tbody tr th {\n",
              "        vertical-align: top;\n",
              "    }\n",
              "\n",
              "    .dataframe thead th {\n",
              "        text-align: right;\n",
              "    }\n",
              "</style>\n",
              "<table border=\"1\" class=\"dataframe\">\n",
              "  <thead>\n",
              "    <tr style=\"text-align: right;\">\n",
              "      <th></th>\n",
              "      <th>actual</th>\n",
              "      <th>predicted</th>\n",
              "    </tr>\n",
              "  </thead>\n",
              "  <tbody>\n",
              "    <tr>\n",
              "      <th>0</th>\n",
              "      <td>105.97</td>\n",
              "      <td>105.805082</td>\n",
              "    </tr>\n",
              "    <tr>\n",
              "      <th>1</th>\n",
              "      <td>166.68</td>\n",
              "      <td>166.878288</td>\n",
              "    </tr>\n",
              "    <tr>\n",
              "      <th>2</th>\n",
              "      <td>93.59</td>\n",
              "      <td>92.909547</td>\n",
              "    </tr>\n",
              "    <tr>\n",
              "      <th>3</th>\n",
              "      <td>248.23</td>\n",
              "      <td>261.762214</td>\n",
              "    </tr>\n",
              "    <tr>\n",
              "      <th>4</th>\n",
              "      <td>118.99</td>\n",
              "      <td>119.131754</td>\n",
              "    </tr>\n",
              "    <tr>\n",
              "      <th>5</th>\n",
              "      <td>93.42</td>\n",
              "      <td>92.553826</td>\n",
              "    </tr>\n",
              "    <tr>\n",
              "      <th>6</th>\n",
              "      <td>150.08</td>\n",
              "      <td>149.521602</td>\n",
              "    </tr>\n",
              "    <tr>\n",
              "      <th>7</th>\n",
              "      <td>163.65</td>\n",
              "      <td>164.762244</td>\n",
              "    </tr>\n",
              "    <tr>\n",
              "      <th>8</th>\n",
              "      <td>151.89</td>\n",
              "      <td>151.056598</td>\n",
              "    </tr>\n",
              "    <tr>\n",
              "      <th>9</th>\n",
              "      <td>191.44</td>\n",
              "      <td>191.041195</td>\n",
              "    </tr>\n",
              "    <tr>\n",
              "      <th>10</th>\n",
              "      <td>226.41</td>\n",
              "      <td>226.809580</td>\n",
              "    </tr>\n",
              "    <tr>\n",
              "      <th>11</th>\n",
              "      <td>115.32</td>\n",
              "      <td>116.013838</td>\n",
              "    </tr>\n",
              "    <tr>\n",
              "      <th>12</th>\n",
              "      <td>270.77</td>\n",
              "      <td>270.425773</td>\n",
              "    </tr>\n",
              "    <tr>\n",
              "      <th>13</th>\n",
              "      <td>162.71</td>\n",
              "      <td>162.242136</td>\n",
              "    </tr>\n",
              "    <tr>\n",
              "      <th>14</th>\n",
              "      <td>188.74</td>\n",
              "      <td>188.125924</td>\n",
              "    </tr>\n",
              "    <tr>\n",
              "      <th>15</th>\n",
              "      <td>323.87</td>\n",
              "      <td>322.095022</td>\n",
              "    </tr>\n",
              "    <tr>\n",
              "      <th>16</th>\n",
              "      <td>203.23</td>\n",
              "      <td>203.147120</td>\n",
              "    </tr>\n",
              "    <tr>\n",
              "      <th>17</th>\n",
              "      <td>119.39</td>\n",
              "      <td>119.982279</td>\n",
              "    </tr>\n",
              "    <tr>\n",
              "      <th>18</th>\n",
              "      <td>109.48</td>\n",
              "      <td>109.220193</td>\n",
              "    </tr>\n",
              "    <tr>\n",
              "      <th>19</th>\n",
              "      <td>183.73</td>\n",
              "      <td>182.984099</td>\n",
              "    </tr>\n",
              "    <tr>\n",
              "      <th>20</th>\n",
              "      <td>112.00</td>\n",
              "      <td>111.583321</td>\n",
              "    </tr>\n",
              "    <tr>\n",
              "      <th>21</th>\n",
              "      <td>116.05</td>\n",
              "      <td>116.194995</td>\n",
              "    </tr>\n",
              "    <tr>\n",
              "      <th>22</th>\n",
              "      <td>321.85</td>\n",
              "      <td>321.140404</td>\n",
              "    </tr>\n",
              "    <tr>\n",
              "      <th>23</th>\n",
              "      <td>166.48</td>\n",
              "      <td>167.968357</td>\n",
              "    </tr>\n",
              "    <tr>\n",
              "      <th>24</th>\n",
              "      <td>120.30</td>\n",
              "      <td>120.011093</td>\n",
              "    </tr>\n",
              "  </tbody>\n",
              "</table>\n",
              "</div>"
            ],
            "text/plain": [
              "    actual   predicted\n",
              "0   105.97  105.805082\n",
              "1   166.68  166.878288\n",
              "2    93.59   92.909547\n",
              "3   248.23  261.762214\n",
              "4   118.99  119.131754\n",
              "5    93.42   92.553826\n",
              "6   150.08  149.521602\n",
              "7   163.65  164.762244\n",
              "8   151.89  151.056598\n",
              "9   191.44  191.041195\n",
              "10  226.41  226.809580\n",
              "11  115.32  116.013838\n",
              "12  270.77  270.425773\n",
              "13  162.71  162.242136\n",
              "14  188.74  188.125924\n",
              "15  323.87  322.095022\n",
              "16  203.23  203.147120\n",
              "17  119.39  119.982279\n",
              "18  109.48  109.220193\n",
              "19  183.73  182.984099\n",
              "20  112.00  111.583321\n",
              "21  116.05  116.194995\n",
              "22  321.85  321.140404\n",
              "23  166.48  167.968357\n",
              "24  120.30  120.011093"
            ]
          },
          "metadata": {
            "tags": []
          },
          "execution_count": 16
        }
      ]
    },
    {
      "cell_type": "code",
      "metadata": {
        "id": "DQ_PueI4_xfm"
      },
      "source": [
        "graph=dframe.head(20)"
      ],
      "execution_count": null,
      "outputs": []
    },
    {
      "cell_type": "code",
      "metadata": {
        "id": "RK9LQW7N9OpG",
        "colab": {
          "base_uri": "https://localhost:8080/"
        },
        "outputId": "b815221c-f42c-4bc4-a47d-adf8ac8aaf6c"
      },
      "source": [
        "print('Mean Absolute Error:', metrics.mean_absolute_error(y_test, predicted))\n",
        "print('Mean Squared Error:', metrics.mean_squared_error(y_test, predicted))\n",
        "print('Root Mean Squared Error:', math.sqrt(metrics.mean_squared_error(y_test, predicted)))"
      ],
      "execution_count": null,
      "outputs": [
        {
          "output_type": "stream",
          "text": [
            "Mean Absolute Error: 0.947197159179765\n",
            "Mean Squared Error: 2.5737549230778645\n",
            "Root Mean Squared Error: 1.6042926550595014\n"
          ],
          "name": "stdout"
        }
      ]
    },
    {
      "cell_type": "code",
      "metadata": {
        "id": "-vD_feqz-EZe"
      },
      "source": [
        "import math"
      ],
      "execution_count": null,
      "outputs": []
    },
    {
      "cell_type": "code",
      "metadata": {
        "id": "uMkXj9ra_7uu",
        "colab": {
          "base_uri": "https://localhost:8080/",
          "height": 285
        },
        "outputId": "7c623505-496b-4d19-f577-e46c973035ac"
      },
      "source": [
        "graph.plot(kind='bar')"
      ],
      "execution_count": null,
      "outputs": [
        {
          "output_type": "execute_result",
          "data": {
            "text/plain": [
              "<matplotlib.axes._subplots.AxesSubplot at 0x7f3f92f3e890>"
            ]
          },
          "metadata": {
            "tags": []
          },
          "execution_count": 20
        },
        {
          "output_type": "display_data",
          "data": {
            "image/png": "[encoded data removed]",
            "text/plain": [
              "<Figure size 432x288 with 1 Axes>"
            ]
          },
          "metadata": {
            "tags": [],
            "needs_background": "light"
          }
        }
      ]
    }
  ]
}