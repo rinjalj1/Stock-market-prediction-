{
  "nbformat": 4,
  "nbformat_minor": 0,
  "metadata": {
    "colab": {
      "name": "stock market Prediction",
      "provenance": [],
      "collapsed_sections": []
    },
    "kernelspec": {
      "name": "python3",
      "display_name": "Python 3"
    },
    "language_info": {
      "name": "python"
    }
  },
  "cells": [
    {
      "cell_type": "code",
      "metadata": {
        "colab": {
          "base_uri": "https://localhost:8080/",
          "height": 35
        },
        "id": "N17aDu1kZcWa",
        "outputId": "18ae2201-f978-4989-f6cd-0eccef0a4877"
      },
      "source": [
        "import math\n",
        "import numpy as np\n",
        "import pandas as pd\n",
        "import matplotlib.pyplot as plt\n",
        "import tensorflow as tf\n",
        "import pandas_datareader as pdr\n",
        "from sklearn.preprocessing import MinMaxScaler\n",
        "\n",
        "# for stacked LSTM model\n",
        "from tensorflow.keras.models import Sequential\n",
        "from tensorflow.keras.layers import Dense\n",
        "from tensorflow.keras.layers import LSTM\n",
        "\n",
        "# for performance metrics\n",
        "from sklearn.metrics import mean_squared_error\n",
        "tf.__version__"
      ],
      "execution_count": null,
      "outputs": [
        {
          "output_type": "execute_result",
          "data": {
            "application/vnd.google.colaboratory.intrinsic+json": {
              "type": "string"
            },
            "text/plain": [
              "'2.4.1'"
            ]
          },
          "metadata": {
            "tags": []
          },
          "execution_count": 1
        }
      ]
    },
    {
      "cell_type": "code",
      "metadata": {
        "id": "8EeLFtMGZ4PX"
      },
      "source": [
        "df = pd.read_csv('/content/AAPL.csv')"
      ],
      "execution_count": null,
      "outputs": []
    },
    {
      "cell_type": "code",
      "metadata": {
        "colab": {
          "base_uri": "https://localhost:8080/",
          "height": 195
        },
        "id": "bIcEz1MKaXjI",
        "outputId": "0ffbc581-b8f1-4fdd-8600-850145c714a4"
      },
      "source": [
        "df.tail()"
      ],
      "execution_count": null,
      "outputs": [
        {
          "output_type": "execute_result",
          "data": {
            "text/html": [
              "<div>\n",
              "<style scoped>\n",
              "    .dataframe tbody tr th:only-of-type {\n",
              "        vertical-align: middle;\n",
              "    }\n",
              "\n",
              "    .dataframe tbody tr th {\n",
              "        vertical-align: top;\n",
              "    }\n",
              "\n",
              "    .dataframe thead th {\n",
              "        text-align: right;\n",
              "    }\n",
              "</style>\n",
              "<table border=\"1\" class=\"dataframe\">\n",
              "  <thead>\n",
              "    <tr style=\"text-align: right;\">\n",
              "      <th></th>\n",
              "      <th>symbol</th>\n",
              "      <th>date</th>\n",
              "      <th>close</th>\n",
              "      <th>high</th>\n",
              "      <th>low</th>\n",
              "      <th>open</th>\n",
              "      <th>volume</th>\n",
              "      <th>adjClose</th>\n",
              "      <th>adjHigh</th>\n",
              "      <th>adjLow</th>\n",
              "      <th>adjOpen</th>\n",
              "      <th>adjVolume</th>\n",
              "      <th>divCash</th>\n",
              "      <th>splitFactor</th>\n",
              "    </tr>\n",
              "  </thead>\n",
              "  <tbody>\n",
              "    <tr>\n",
              "      <th>1252</th>\n",
              "      <td>AAPL</td>\n",
              "      <td>2021-04-06 00:00:00+00:00</td>\n",
              "      <td>126.210</td>\n",
              "      <td>127.13</td>\n",
              "      <td>125.65</td>\n",
              "      <td>126.50</td>\n",
              "      <td>80171253</td>\n",
              "      <td>126.210</td>\n",
              "      <td>127.13</td>\n",
              "      <td>125.65</td>\n",
              "      <td>126.50</td>\n",
              "      <td>80171253</td>\n",
              "      <td>0.0</td>\n",
              "      <td>1.0</td>\n",
              "    </tr>\n",
              "    <tr>\n",
              "      <th>1253</th>\n",
              "      <td>AAPL</td>\n",
              "      <td>2021-04-07 00:00:00+00:00</td>\n",
              "      <td>127.900</td>\n",
              "      <td>127.92</td>\n",
              "      <td>125.14</td>\n",
              "      <td>125.83</td>\n",
              "      <td>83466716</td>\n",
              "      <td>127.900</td>\n",
              "      <td>127.92</td>\n",
              "      <td>125.14</td>\n",
              "      <td>125.83</td>\n",
              "      <td>83466716</td>\n",
              "      <td>0.0</td>\n",
              "      <td>1.0</td>\n",
              "    </tr>\n",
              "    <tr>\n",
              "      <th>1254</th>\n",
              "      <td>AAPL</td>\n",
              "      <td>2021-04-08 00:00:00+00:00</td>\n",
              "      <td>130.360</td>\n",
              "      <td>130.39</td>\n",
              "      <td>128.52</td>\n",
              "      <td>128.95</td>\n",
              "      <td>88844591</td>\n",
              "      <td>130.360</td>\n",
              "      <td>130.39</td>\n",
              "      <td>128.52</td>\n",
              "      <td>128.95</td>\n",
              "      <td>88844591</td>\n",
              "      <td>0.0</td>\n",
              "      <td>1.0</td>\n",
              "    </tr>\n",
              "    <tr>\n",
              "      <th>1255</th>\n",
              "      <td>AAPL</td>\n",
              "      <td>2021-04-09 00:00:00+00:00</td>\n",
              "      <td>132.995</td>\n",
              "      <td>133.04</td>\n",
              "      <td>129.47</td>\n",
              "      <td>129.80</td>\n",
              "      <td>106686703</td>\n",
              "      <td>132.995</td>\n",
              "      <td>133.04</td>\n",
              "      <td>129.47</td>\n",
              "      <td>129.80</td>\n",
              "      <td>106686703</td>\n",
              "      <td>0.0</td>\n",
              "      <td>1.0</td>\n",
              "    </tr>\n",
              "    <tr>\n",
              "      <th>1256</th>\n",
              "      <td>AAPL</td>\n",
              "      <td>2021-04-12 00:00:00+00:00</td>\n",
              "      <td>131.240</td>\n",
              "      <td>132.85</td>\n",
              "      <td>130.63</td>\n",
              "      <td>132.52</td>\n",
              "      <td>91419983</td>\n",
              "      <td>131.240</td>\n",
              "      <td>132.85</td>\n",
              "      <td>130.63</td>\n",
              "      <td>132.52</td>\n",
              "      <td>91419983</td>\n",
              "      <td>0.0</td>\n",
              "      <td>1.0</td>\n",
              "    </tr>\n",
              "  </tbody>\n",
              "</table>\n",
              "</div>"
            ],
            "text/plain": [
              "     symbol                       date  ...  divCash  splitFactor\n",
              "1252   AAPL  2021-04-06 00:00:00+00:00  ...      0.0          1.0\n",
              "1253   AAPL  2021-04-07 00:00:00+00:00  ...      0.0          1.0\n",
              "1254   AAPL  2021-04-08 00:00:00+00:00  ...      0.0          1.0\n",
              "1255   AAPL  2021-04-09 00:00:00+00:00  ...      0.0          1.0\n",
              "1256   AAPL  2021-04-12 00:00:00+00:00  ...      0.0          1.0\n",
              "\n",
              "[5 rows x 14 columns]"
            ]
          },
          "metadata": {
            "tags": []
          },
          "execution_count": 3
        }
      ]
    },
    {
      "cell_type": "code",
      "metadata": {
        "colab": {
          "base_uri": "https://localhost:8080/"
        },
        "id": "-Lz03wctaXom",
        "outputId": "62d3c982-3ee8-4e45-ebd1-af7a7748a14a"
      },
      "source": [
        "df1 = df.reset_index()['close']\n",
        "df1.shape"
      ],
      "execution_count": null,
      "outputs": [
        {
          "output_type": "execute_result",
          "data": {
            "text/plain": [
              "(1257,)"
            ]
          },
          "metadata": {
            "tags": []
          },
          "execution_count": 4
        }
      ]
    },
    {
      "cell_type": "code",
      "metadata": {
        "colab": {
          "base_uri": "https://localhost:8080/",
          "height": 282
        },
        "id": "G2H3waZQapkn",
        "outputId": "ea614c5b-0efe-4106-f7b0-442ad5aad909"
      },
      "source": [
        "plt.plot(df1)"
      ],
      "execution_count": null,
      "outputs": [
        {
          "output_type": "execute_result",
          "data": {
            "text/plain": [
              "[<matplotlib.lines.Line2D at 0x7f4aebd6f650>]"
            ]
          },
          "metadata": {
            "tags": []
          },
          "execution_count": 5
        },
        {
          "output_type": "display_data",
          "data": {
            "image/png": "[encoded data removed]",
            "text/plain": [
              "<Figure size 432x288 with 1 Axes>"
            ]
          },
          "metadata": {
            "tags": [],
            "needs_background": "light"
          }
        }
      ]
    },
    {
      "cell_type": "code",
      "metadata": {
        "id": "t8sGCLFXapoe"
      },
      "source": [
        "scaler = MinMaxScaler(feature_range=(0,1))\n",
        "df1 = scaler.fit_transform(np.array(df1).reshape(-1,1))"
      ],
      "execution_count": null,
      "outputs": []
    },
    {
      "cell_type": "code",
      "metadata": {
        "colab": {
          "base_uri": "https://localhost:8080/"
        },
        "id": "JQ5-kMhqaprH",
        "outputId": "da5d18e9-c5d3-4f0f-f102-0ccf9bc3d5a8"
      },
      "source": [
        "df1.shape"
      ],
      "execution_count": null,
      "outputs": [
        {
          "output_type": "execute_result",
          "data": {
            "text/plain": [
              "(1257, 1)"
            ]
          },
          "metadata": {
            "tags": []
          },
          "execution_count": 7
        }
      ]
    },
    {
      "cell_type": "code",
      "metadata": {
        "colab": {
          "base_uri": "https://localhost:8080/"
        },
        "id": "lySylHHma2R3",
        "outputId": "b5d6dbce-2b05-40ec-cbd3-57dec3c2f6d3"
      },
      "source": [
        "print(df1) # all value between 0 and 1"
      ],
      "execution_count": null,
      "outputs": [
        {
          "output_type": "stream",
          "text": [
            "[[0.05233915]\n",
            " [0.04692724]\n",
            " [0.0412267 ]\n",
            " ...\n",
            " [0.09625977]\n",
            " [0.10259771]\n",
            " [0.09837643]]\n"
          ],
          "name": "stdout"
        }
      ]
    },
    {
      "cell_type": "code",
      "metadata": {
        "id": "y2KU0IAUa2Z2"
      },
      "source": [
        "# Spliting dataset into train and test split\n",
        "training_size = int(len(df1)*0.65)\n",
        "test_size = len(df1) - training_size\n",
        "train_data, test_data = df1[0:training_size, :], df1[training_size: len(df1), :1]"
      ],
      "execution_count": null,
      "outputs": []
    },
    {
      "cell_type": "code",
      "metadata": {
        "colab": {
          "base_uri": "https://localhost:8080/"
        },
        "id": "poc4KDlva2ln",
        "outputId": "4b91a79e-a2ec-443a-e98c-6ce5589c18a6"
      },
      "source": [
        "train_data.shape, test_data.shape"
      ],
      "execution_count": null,
      "outputs": [
        {
          "output_type": "execute_result",
          "data": {
            "text/plain": [
              "((817, 1), (440, 1))"
            ]
          },
          "metadata": {
            "tags": []
          },
          "execution_count": 10
        }
      ]
    },
    {
      "cell_type": "code",
      "metadata": {
        "id": "Ju8pqs3ZbHhX"
      },
      "source": [
        "#convert and array of values into a dataset matrix\n",
        "def create_dataset(dataset, time_step=1):\n",
        "    dataX, dataY=[],[]\n",
        "    for i in range(len(dataset)-time_step-1):\n",
        "        a = dataset[i:(i+time_step), 0]\n",
        "        dataX.append(a)\n",
        "        dataY.append(dataset[i+time_step, 0])\n",
        "    return np.array(dataX), np.array(dataY)"
      ],
      "execution_count": null,
      "outputs": []
    },
    {
      "cell_type": "code",
      "metadata": {
        "id": "-CWLq4VAbJKX"
      },
      "source": [
        "# reshape into X = t, t+1, t+2, t+3 and Y=t+4\n",
        "time_steps = 100\n",
        "X_train, y_train = create_dataset(train_data, time_steps)\n",
        "X_test, y_test = create_dataset(test_data, time_steps)"
      ],
      "execution_count": null,
      "outputs": []
    },
    {
      "cell_type": "code",
      "metadata": {
        "colab": {
          "base_uri": "https://localhost:8080/"
        },
        "id": "4D2Wz-3ibJNf",
        "outputId": "c9b7052c-c4cd-42d9-b7a7-6278ab40e56c"
      },
      "source": [
        "train_data.shape, X_train.shape, y_train.shape"
      ],
      "execution_count": null,
      "outputs": [
        {
          "output_type": "execute_result",
          "data": {
            "text/plain": [
              "((817, 1), (716, 100), (716,))"
            ]
          },
          "metadata": {
            "tags": []
          },
          "execution_count": 13
        }
      ]
    },
    {
      "cell_type": "code",
      "metadata": {
        "colab": {
          "base_uri": "https://localhost:8080/"
        },
        "id": "vgXMHfN2bJQf",
        "outputId": "64615aa5-83ea-4ad9-b5a0-4228a4669300"
      },
      "source": [
        "test_data.shape, X_test.shape, y_test.shape"
      ],
      "execution_count": null,
      "outputs": [
        {
          "output_type": "execute_result",
          "data": {
            "text/plain": [
              "((440, 1), (339, 100), (339,))"
            ]
          },
          "metadata": {
            "tags": []
          },
          "execution_count": 14
        }
      ]
    },
    {
      "cell_type": "code",
      "metadata": {
        "id": "n6QblUPJbJTo"
      },
      "source": [
        "# reshape input to be [samples, time steps, features] which is required for LSTM\n",
        "X_train = X_train.reshape(X_train.shape[0], X_train.shape[1], 1)\n",
        "X_test = X_test.reshape(X_test.shape[0], X_test.shape[1], 1)"
      ],
      "execution_count": null,
      "outputs": []
    },
    {
      "cell_type": "code",
      "metadata": {
        "colab": {
          "base_uri": "https://localhost:8080/"
        },
        "id": "BQHXXGzabdK3",
        "outputId": "80dfa3e4-8073-479e-f9a8-edb9e06389f2"
      },
      "source": [
        "X_train.shape, X_test.shape"
      ],
      "execution_count": null,
      "outputs": [
        {
          "output_type": "execute_result",
          "data": {
            "text/plain": [
              "((716, 100, 1), (339, 100, 1))"
            ]
          },
          "metadata": {
            "tags": []
          },
          "execution_count": 16
        }
      ]
    },
    {
      "cell_type": "code",
      "metadata": {
        "id": "bMMgAqvabdPv"
      },
      "source": [
        "model = Sequential()\n",
        "model.add(LSTM(50, return_sequences=True, input_shape=(100,1)))\n",
        "model.add(LSTM(50, return_sequences=True))\n",
        "model.add(LSTM(50))\n",
        "model.add(Dense(1))\n",
        "model.compile(loss='mean_squared_error', optimizer='adam')"
      ],
      "execution_count": null,
      "outputs": []
    },
    {
      "cell_type": "code",
      "metadata": {
        "id": "Z5B7K6InbdTH"
      },
      "source": [
        ""
      ],
      "execution_count": null,
      "outputs": []
    },
    {
      "cell_type": "code",
      "metadata": {
        "colab": {
          "base_uri": "https://localhost:8080/"
        },
        "id": "sW7oo14Rbj3e",
        "outputId": "11e728b2-4403-40a0-f286-02bb2f059cb7"
      },
      "source": [
        "model.summary()"
      ],
      "execution_count": null,
      "outputs": [
        {
          "output_type": "stream",
          "text": [
            "Model: \"sequential\"\n",
            "_________________________________________________________________\n",
            "Layer (type)                 Output Shape              Param #   \n",
            "=================================================================\n",
            "lstm (LSTM)                  (None, 100, 50)           10400     \n",
            "_________________________________________________________________\n",
            "lstm_1 (LSTM)                (None, 100, 50)           20200     \n",
            "_________________________________________________________________\n",
            "lstm_2 (LSTM)                (None, 50)                20200     \n",
            "_________________________________________________________________\n",
            "dense (Dense)                (None, 1)                 51        \n",
            "=================================================================\n",
            "Total params: 50,851\n",
            "Trainable params: 50,851\n",
            "Non-trainable params: 0\n",
            "_________________________________________________________________\n"
          ],
          "name": "stdout"
        }
      ]
    },
    {
      "cell_type": "code",
      "metadata": {
        "colab": {
          "base_uri": "https://localhost:8080/"
        },
        "id": "LgEQC_RIbj73",
        "outputId": "230e09a9-3c9f-4be4-f81e-b5a67bb9bb25"
      },
      "source": [
        "model.fit(X_train, y_train, validation_data=(X_test, y_test), epochs=100, batch_size=64, verbose=1)"
      ],
      "execution_count": null,
      "outputs": [
        {
          "output_type": "stream",
          "text": [
            "Epoch 1/100\n",
            "12/12 [==============================] - 9s 319ms/step - loss: 0.0180 - val_loss: 0.0569\n",
            "Epoch 2/100\n",
            "12/12 [==============================] - 2s 203ms/step - loss: 0.0036 - val_loss: 0.0274\n",
            "Epoch 3/100\n",
            "12/12 [==============================] - 2s 206ms/step - loss: 0.0019 - val_loss: 0.0281\n",
            "Epoch 4/100\n",
            "12/12 [==============================] - 2s 205ms/step - loss: 9.1743e-04 - val_loss: 0.0213\n",
            "Epoch 5/100\n",
            "12/12 [==============================] - 2s 210ms/step - loss: 5.0563e-04 - val_loss: 0.0197\n",
            "Epoch 6/100\n",
            "12/12 [==============================] - 2s 206ms/step - loss: 3.9945e-04 - val_loss: 0.0191\n",
            "Epoch 7/100\n",
            "12/12 [==============================] - 2s 207ms/step - loss: 3.7928e-04 - val_loss: 0.0185\n",
            "Epoch 8/100\n",
            "12/12 [==============================] - 2s 207ms/step - loss: 3.9783e-04 - val_loss: 0.0181\n",
            "Epoch 9/100\n",
            "12/12 [==============================] - 3s 211ms/step - loss: 3.3821e-04 - val_loss: 0.0178\n",
            "Epoch 10/100\n",
            "12/12 [==============================] - 2s 207ms/step - loss: 3.4632e-04 - val_loss: 0.0171\n",
            "Epoch 11/100\n",
            "12/12 [==============================] - 2s 207ms/step - loss: 3.2534e-04 - val_loss: 0.0165\n",
            "Epoch 12/100\n",
            "12/12 [==============================] - 2s 209ms/step - loss: 3.1425e-04 - val_loss: 0.0159\n",
            "Epoch 13/100\n",
            "12/12 [==============================] - 2s 210ms/step - loss: 3.1897e-04 - val_loss: 0.0154\n",
            "Epoch 14/100\n",
            "12/12 [==============================] - 2s 209ms/step - loss: 3.0083e-04 - val_loss: 0.0148\n",
            "Epoch 15/100\n",
            "12/12 [==============================] - 2s 207ms/step - loss: 2.6836e-04 - val_loss: 0.0145\n",
            "Epoch 16/100\n",
            "12/12 [==============================] - 2s 209ms/step - loss: 2.8583e-04 - val_loss: 0.0138\n",
            "Epoch 17/100\n",
            "12/12 [==============================] - 2s 208ms/step - loss: 2.4619e-04 - val_loss: 0.0142\n",
            "Epoch 18/100\n",
            "12/12 [==============================] - 2s 209ms/step - loss: 2.9373e-04 - val_loss: 0.0136\n",
            "Epoch 19/100\n",
            "12/12 [==============================] - 2s 208ms/step - loss: 2.1571e-04 - val_loss: 0.0130\n",
            "Epoch 20/100\n",
            "12/12 [==============================] - 2s 209ms/step - loss: 3.2785e-04 - val_loss: 0.0150\n",
            "Epoch 21/100\n",
            "12/12 [==============================] - 2s 207ms/step - loss: 2.3938e-04 - val_loss: 0.0145\n",
            "Epoch 22/100\n",
            "12/12 [==============================] - 2s 209ms/step - loss: 2.4077e-04 - val_loss: 0.0132\n",
            "Epoch 23/100\n",
            "12/12 [==============================] - 3s 212ms/step - loss: 2.2743e-04 - val_loss: 0.0151\n",
            "Epoch 24/100\n",
            "12/12 [==============================] - 3s 211ms/step - loss: 2.3213e-04 - val_loss: 0.0129\n",
            "Epoch 25/100\n",
            "12/12 [==============================] - 3s 212ms/step - loss: 2.1474e-04 - val_loss: 0.0149\n",
            "Epoch 26/100\n",
            "12/12 [==============================] - 3s 214ms/step - loss: 2.1559e-04 - val_loss: 0.0134\n",
            "Epoch 27/100\n",
            "12/12 [==============================] - 3s 210ms/step - loss: 2.1465e-04 - val_loss: 0.0147\n",
            "Epoch 28/100\n",
            "12/12 [==============================] - 3s 211ms/step - loss: 2.2612e-04 - val_loss: 0.0133\n",
            "Epoch 29/100\n",
            "12/12 [==============================] - 3s 213ms/step - loss: 2.2195e-04 - val_loss: 0.0130\n",
            "Epoch 30/100\n",
            "12/12 [==============================] - 3s 216ms/step - loss: 2.0096e-04 - val_loss: 0.0138\n",
            "Epoch 31/100\n",
            "12/12 [==============================] - 3s 213ms/step - loss: 2.0159e-04 - val_loss: 0.0128\n",
            "Epoch 32/100\n",
            "12/12 [==============================] - 3s 213ms/step - loss: 1.8261e-04 - val_loss: 0.0136\n",
            "Epoch 33/100\n",
            "12/12 [==============================] - 3s 216ms/step - loss: 2.0218e-04 - val_loss: 0.0129\n",
            "Epoch 34/100\n",
            "12/12 [==============================] - 3s 212ms/step - loss: 1.9966e-04 - val_loss: 0.0125\n",
            "Epoch 35/100\n",
            "12/12 [==============================] - 3s 213ms/step - loss: 2.0815e-04 - val_loss: 0.0134\n",
            "Epoch 36/100\n",
            "12/12 [==============================] - 3s 213ms/step - loss: 2.2419e-04 - val_loss: 0.0115\n",
            "Epoch 37/100\n",
            "12/12 [==============================] - 3s 219ms/step - loss: 2.0522e-04 - val_loss: 0.0122\n",
            "Epoch 38/100\n",
            "12/12 [==============================] - 3s 215ms/step - loss: 1.9792e-04 - val_loss: 0.0110\n",
            "Epoch 39/100\n",
            "12/12 [==============================] - 3s 218ms/step - loss: 1.8359e-04 - val_loss: 0.0106\n",
            "Epoch 40/100\n",
            "12/12 [==============================] - 3s 219ms/step - loss: 2.2439e-04 - val_loss: 0.0114\n",
            "Epoch 41/100\n",
            "12/12 [==============================] - 3s 220ms/step - loss: 2.0298e-04 - val_loss: 0.0112\n",
            "Epoch 42/100\n",
            "12/12 [==============================] - 3s 217ms/step - loss: 2.0900e-04 - val_loss: 0.0111\n",
            "Epoch 43/100\n",
            "12/12 [==============================] - 3s 217ms/step - loss: 1.9372e-04 - val_loss: 0.0113\n",
            "Epoch 44/100\n",
            "12/12 [==============================] - 3s 214ms/step - loss: 1.8088e-04 - val_loss: 0.0105\n",
            "Epoch 45/100\n",
            "12/12 [==============================] - 3s 220ms/step - loss: 1.8674e-04 - val_loss: 0.0099\n",
            "Epoch 46/100\n",
            "12/12 [==============================] - 3s 219ms/step - loss: 2.2246e-04 - val_loss: 0.0109\n",
            "Epoch 47/100\n",
            "12/12 [==============================] - 3s 218ms/step - loss: 1.6620e-04 - val_loss: 0.0098\n",
            "Epoch 48/100\n",
            "12/12 [==============================] - 3s 219ms/step - loss: 1.8092e-04 - val_loss: 0.0114\n",
            "Epoch 49/100\n",
            "12/12 [==============================] - 3s 218ms/step - loss: 1.9231e-04 - val_loss: 0.0104\n",
            "Epoch 50/100\n",
            "12/12 [==============================] - 3s 215ms/step - loss: 1.7545e-04 - val_loss: 0.0101\n",
            "Epoch 51/100\n",
            "12/12 [==============================] - 3s 219ms/step - loss: 1.6273e-04 - val_loss: 0.0099\n",
            "Epoch 52/100\n",
            "12/12 [==============================] - 3s 220ms/step - loss: 1.6559e-04 - val_loss: 0.0101\n",
            "Epoch 53/100\n",
            "12/12 [==============================] - 3s 220ms/step - loss: 1.4720e-04 - val_loss: 0.0100\n",
            "Epoch 54/100\n",
            "12/12 [==============================] - 3s 220ms/step - loss: 1.6229e-04 - val_loss: 0.0096\n",
            "Epoch 55/100\n",
            "12/12 [==============================] - 3s 223ms/step - loss: 1.7507e-04 - val_loss: 0.0108\n",
            "Epoch 56/100\n",
            "12/12 [==============================] - 3s 222ms/step - loss: 1.5342e-04 - val_loss: 0.0108\n",
            "Epoch 57/100\n",
            "12/12 [==============================] - 3s 214ms/step - loss: 1.7866e-04 - val_loss: 0.0092\n",
            "Epoch 58/100\n",
            "12/12 [==============================] - 3s 216ms/step - loss: 1.5759e-04 - val_loss: 0.0093\n",
            "Epoch 59/100\n",
            "12/12 [==============================] - 3s 218ms/step - loss: 1.6420e-04 - val_loss: 0.0092\n",
            "Epoch 60/100\n",
            "12/12 [==============================] - 3s 217ms/step - loss: 1.5228e-04 - val_loss: 0.0101\n",
            "Epoch 61/100\n",
            "12/12 [==============================] - 3s 220ms/step - loss: 1.5334e-04 - val_loss: 0.0092\n",
            "Epoch 62/100\n",
            "12/12 [==============================] - 3s 214ms/step - loss: 1.6278e-04 - val_loss: 0.0091\n",
            "Epoch 63/100\n",
            "12/12 [==============================] - 3s 216ms/step - loss: 1.5183e-04 - val_loss: 0.0089\n",
            "Epoch 64/100\n",
            "12/12 [==============================] - 3s 219ms/step - loss: 1.2408e-04 - val_loss: 0.0085\n",
            "Epoch 65/100\n",
            "12/12 [==============================] - 3s 216ms/step - loss: 1.5437e-04 - val_loss: 0.0082\n",
            "Epoch 66/100\n",
            "12/12 [==============================] - 3s 217ms/step - loss: 1.5190e-04 - val_loss: 0.0080\n",
            "Epoch 67/100\n",
            "12/12 [==============================] - 3s 217ms/step - loss: 1.4605e-04 - val_loss: 0.0089\n",
            "Epoch 68/100\n",
            "12/12 [==============================] - 3s 216ms/step - loss: 1.5462e-04 - val_loss: 0.0079\n",
            "Epoch 69/100\n",
            "12/12 [==============================] - 3s 214ms/step - loss: 1.5061e-04 - val_loss: 0.0084\n",
            "Epoch 70/100\n",
            "12/12 [==============================] - 3s 217ms/step - loss: 1.3711e-04 - val_loss: 0.0080\n",
            "Epoch 71/100\n",
            "12/12 [==============================] - 3s 217ms/step - loss: 1.2458e-04 - val_loss: 0.0078\n",
            "Epoch 72/100\n",
            "12/12 [==============================] - 3s 213ms/step - loss: 1.4595e-04 - val_loss: 0.0083\n",
            "Epoch 73/100\n",
            "12/12 [==============================] - 3s 213ms/step - loss: 1.4150e-04 - val_loss: 0.0079\n",
            "Epoch 74/100\n",
            "12/12 [==============================] - 3s 212ms/step - loss: 1.3142e-04 - val_loss: 0.0071\n",
            "Epoch 75/100\n",
            "12/12 [==============================] - 3s 215ms/step - loss: 1.5019e-04 - val_loss: 0.0069\n",
            "Epoch 76/100\n",
            "12/12 [==============================] - 3s 219ms/step - loss: 1.7977e-04 - val_loss: 0.0072\n",
            "Epoch 77/100\n",
            "12/12 [==============================] - 3s 220ms/step - loss: 1.7276e-04 - val_loss: 0.0087\n",
            "Epoch 78/100\n",
            "12/12 [==============================] - 3s 223ms/step - loss: 1.6961e-04 - val_loss: 0.0064\n",
            "Epoch 79/100\n",
            "12/12 [==============================] - 3s 221ms/step - loss: 1.2809e-04 - val_loss: 0.0070\n",
            "Epoch 80/100\n",
            "12/12 [==============================] - 3s 213ms/step - loss: 1.3518e-04 - val_loss: 0.0076\n",
            "Epoch 81/100\n",
            "12/12 [==============================] - 3s 217ms/step - loss: 1.2803e-04 - val_loss: 0.0084\n",
            "Epoch 82/100\n",
            "12/12 [==============================] - 3s 214ms/step - loss: 1.3751e-04 - val_loss: 0.0065\n",
            "Epoch 83/100\n",
            "12/12 [==============================] - 3s 220ms/step - loss: 1.3283e-04 - val_loss: 0.0071\n",
            "Epoch 84/100\n",
            "12/12 [==============================] - 3s 219ms/step - loss: 1.2109e-04 - val_loss: 0.0066\n",
            "Epoch 85/100\n",
            "12/12 [==============================] - 3s 218ms/step - loss: 1.3621e-04 - val_loss: 0.0077\n",
            "Epoch 86/100\n",
            "12/12 [==============================] - 3s 220ms/step - loss: 1.1449e-04 - val_loss: 0.0058\n",
            "Epoch 87/100\n",
            "12/12 [==============================] - 3s 217ms/step - loss: 2.3700e-04 - val_loss: 0.0070\n",
            "Epoch 88/100\n",
            "12/12 [==============================] - 3s 219ms/step - loss: 1.4715e-04 - val_loss: 0.0073\n",
            "Epoch 89/100\n",
            "12/12 [==============================] - 3s 220ms/step - loss: 1.3129e-04 - val_loss: 0.0066\n",
            "Epoch 90/100\n",
            "12/12 [==============================] - 3s 220ms/step - loss: 1.1642e-04 - val_loss: 0.0082\n",
            "Epoch 91/100\n",
            "12/12 [==============================] - 3s 218ms/step - loss: 1.4076e-04 - val_loss: 0.0055\n",
            "Epoch 92/100\n",
            "12/12 [==============================] - 3s 217ms/step - loss: 1.3884e-04 - val_loss: 0.0070\n",
            "Epoch 93/100\n",
            "12/12 [==============================] - 3s 219ms/step - loss: 1.1515e-04 - val_loss: 0.0058\n",
            "Epoch 94/100\n",
            "12/12 [==============================] - 3s 217ms/step - loss: 1.1677e-04 - val_loss: 0.0066\n",
            "Epoch 95/100\n",
            "12/12 [==============================] - 3s 216ms/step - loss: 1.1059e-04 - val_loss: 0.0063\n",
            "Epoch 96/100\n",
            "12/12 [==============================] - 3s 218ms/step - loss: 1.1649e-04 - val_loss: 0.0055\n",
            "Epoch 97/100\n",
            "12/12 [==============================] - 3s 214ms/step - loss: 1.1527e-04 - val_loss: 0.0078\n",
            "Epoch 98/100\n",
            "12/12 [==============================] - 3s 219ms/step - loss: 1.1516e-04 - val_loss: 0.0058\n",
            "Epoch 99/100\n",
            "12/12 [==============================] - 3s 216ms/step - loss: 1.3140e-04 - val_loss: 0.0051\n",
            "Epoch 100/100\n",
            "12/12 [==============================] - 3s 214ms/step - loss: 1.3186e-04 - val_loss: 0.0076\n"
          ],
          "name": "stdout"
        },
        {
          "output_type": "execute_result",
          "data": {
            "text/plain": [
              "<tensorflow.python.keras.callbacks.History at 0x7f4ae7d06ad0>"
            ]
          },
          "metadata": {
            "tags": []
          },
          "execution_count": 19
        }
      ]
    },
    {
      "cell_type": "code",
      "metadata": {
        "id": "8XjATdb_bj_2"
      },
      "source": [
        "# let's do the prediction and check performance metrics\n",
        "train_predict = model.predict(X_train)\n",
        "test_predict = model.predict(X_test)"
      ],
      "execution_count": null,
      "outputs": []
    },
    {
      "cell_type": "code",
      "metadata": {
        "id": "Sw8MvB3ZbdYO"
      },
      "source": [
        "# transform back to original form\n",
        "train_predict = scaler.inverse_transform(train_predict)\n",
        "test_predict = scaler.inverse_transform(test_predict)"
      ],
      "execution_count": null,
      "outputs": []
    },
    {
      "cell_type": "code",
      "metadata": {
        "colab": {
          "base_uri": "https://localhost:8080/"
        },
        "id": "xT_-oNJwcJ9Y",
        "outputId": "2ad9d217-5f42-4419-ecab-29669c7385df"
      },
      "source": [
        "# calculate RMSE performacne metrics\n",
        "math.sqrt(mean_squared_error(y_train, train_predict))"
      ],
      "execution_count": null,
      "outputs": [
        {
          "output_type": "execute_result",
          "data": {
            "text/plain": [
              "165.79074624326537"
            ]
          },
          "metadata": {
            "tags": []
          },
          "execution_count": 22
        }
      ]
    },
    {
      "cell_type": "code",
      "metadata": {
        "colab": {
          "base_uri": "https://localhost:8080/"
        },
        "id": "TQYxmT6UcKLB",
        "outputId": "bc05977d-a388-4a72-a65b-c41681f0eb84"
      },
      "source": [
        "# test data RMSE\n",
        "math.sqrt(mean_squared_error(y_test, test_predict))"
      ],
      "execution_count": null,
      "outputs": [
        {
          "output_type": "execute_result",
          "data": {
            "text/plain": [
              "236.37473657769831"
            ]
          },
          "metadata": {
            "tags": []
          },
          "execution_count": 23
        }
      ]
    },
    {
      "cell_type": "code",
      "metadata": {
        "colab": {
          "base_uri": "https://localhost:8080/",
          "height": 265
        },
        "id": "JAh1RUXwcdO5",
        "outputId": "1181841b-0afb-476f-ca5a-1794a7e7584e"
      },
      "source": [
        "# shift train predictions for plotting\n",
        "look_back = 100\n",
        "trainPredictPlot = np.empty_like(df1)\n",
        "trainPredictPlot[:,:] = np.nan\n",
        "trainPredictPlot[look_back:len(train_predict)+look_back, :] = train_predict\n",
        "# shift test predictions for plotting\n",
        "testPredictPlot = np.empty_like(df1)\n",
        "testPredictPlot[:,:] = np.nan\n",
        "testPredictPlot[len(train_predict)+(look_back*2)+1:len(df1)-1, :] = test_predict\n",
        "# plot baseline and predictions\n",
        "plt.plot(scaler.inverse_transform(df1))\n",
        "plt.plot(trainPredictPlot)\n",
        "plt.plot(testPredictPlot)\n",
        "plt.show()"
      ],
      "execution_count": null,
      "outputs": [
        {
          "output_type": "display_data",
          "data": {
            "image/png": "[encoded data removed]",
            "text/plain": [
              "<Figure size 432x288 with 1 Axes>"
            ]
          },
          "metadata": {
            "tags": [],
            "needs_background": "light"
          }
        }
      ]
    },
    {
      "cell_type": "code",
      "metadata": {
        "colab": {
          "base_uri": "https://localhost:8080/"
        },
        "id": "51imbXYPcdXZ",
        "outputId": "2244f66e-03a6-4c8e-bb40-161e9e738554"
      },
      "source": [
        "len(test_data)"
      ],
      "execution_count": null,
      "outputs": [
        {
          "output_type": "execute_result",
          "data": {
            "text/plain": [
              "440"
            ]
          },
          "metadata": {
            "tags": []
          },
          "execution_count": 25
        }
      ]
    },
    {
      "cell_type": "code",
      "metadata": {
        "colab": {
          "base_uri": "https://localhost:8080/"
        },
        "id": "BXgYviybcdf_",
        "outputId": "d923d735-f9ce-4357-e084-5037d9e21a11"
      },
      "source": [
        "x_input = test_data[340:].reshape(1, -1)\n",
        "x_input.shape"
      ],
      "execution_count": null,
      "outputs": [
        {
          "output_type": "execute_result",
          "data": {
            "text/plain": [
              "(1, 100)"
            ]
          },
          "metadata": {
            "tags": []
          },
          "execution_count": 26
        }
      ]
    },
    {
      "cell_type": "code",
      "metadata": {
        "id": "LN7elm-R1k5D"
      },
      "source": [
        "# converted x_input from numpy array to list object\n",
        "temp_input = list(x_input)\n",
        "temp_input = temp_input[0].tolist()"
      ],
      "execution_count": null,
      "outputs": []
    },
    {
      "cell_type": "code",
      "metadata": {
        "colab": {
          "base_uri": "https://localhost:8080/"
        },
        "id": "Bb3GcA7HEBTz",
        "outputId": "7fa89e38-401c-4d5c-e3d6-6e7cad2308e0"
      },
      "source": [
        "# demonstrate prediction for next 30 days\n",
        "lst_output = []\n",
        "n_steps = 100\n",
        "i = 0\n",
        "while(i<30):\n",
        "    \n",
        "    if(len(temp_input) > 100):\n",
        "        x_input = np.array(temp_input[1:])\n",
        "        print(\"\\n{} day input:\\n{}\".format(i+1, x_input))\n",
        "        x_input = x_input.reshape(1, -1)\n",
        "        x_input = x_input.reshape((1, n_steps, 1))\n",
        "        yhat = model.predict(x_input, verbose=0)\n",
        "        print(\"\\n{} day output: {}\".format(i+1, yhat))\n",
        "        temp_input.extend(yhat[0].tolist())\n",
        "        temp_input = temp_input[1:]\n",
        "        lst_output.extend(yhat.tolist())\n",
        "        i=i+1\n",
        "    else:\n",
        "        x_input = x_input.reshape((1,n_steps,1))\n",
        "        yhat = model.predict(x_input, verbose=0)\n",
        "        print(\"\\nyhat[0]: \", yhat[0])\n",
        "        temp_input.extend(yhat[0].tolist())\n",
        "        print(\"\\nlen(temp_input): \", len(temp_input))\n",
        "        lst_output.extend(yhat.tolist())\n",
        "        i=i+1\n",
        "\n",
        "print(\"\\nOutput for 30 days: \\n\", lst_output)"
      ],
      "execution_count": null,
      "outputs": [
        {
          "output_type": "stream",
          "text": [
            "\n",
            "yhat[0]:  [0.09147779]\n",
            "\n",
            "len(temp_input):  101\n",
            "\n",
            "2 day input:\n",
            "[0.06987372 0.06660253 0.06806975 0.06494287 0.05654841 0.05972339\n",
            " 0.06179194 0.06313891 0.06905592 0.07788334 0.07874925 0.07841251\n",
            " 0.07675286 0.08036079 0.08187613 0.07562237 0.0791341  0.0771377\n",
            " 0.07562237 0.09029465 0.09012628 0.09226699 0.08734817 0.0911365\n",
            " 0.09991581 0.09770295 0.10013229 0.11148527 0.10710764 0.10434155\n",
            " 0.1018641  0.09397474 0.09782321 0.08721587 0.09760673 0.10032471\n",
            " 0.09294047 0.09250752 0.09753458 0.0927721  0.08851473 0.09017438\n",
            " 0.10027661 0.11191822 0.11720986 0.12647023 0.1270475  0.12440168\n",
            " 0.11244738 0.10010824 0.10535177 0.10739627 0.10487072 0.11316897\n",
            " 0.11165364 0.11201443 0.10984967 0.10835839 0.10773301 0.10831028\n",
            " 0.10306675 0.09741431 0.09469633 0.09508118 0.0857727  0.08543596\n",
            " 0.08420926 0.07372219 0.07437162 0.09007817 0.08365604 0.07629585\n",
            " 0.07165364 0.07475646 0.06258569 0.07395069 0.07129284 0.07605532\n",
            " 0.0738184  0.08093806 0.08473842 0.08279014 0.07261575 0.0713169\n",
            " 0.07949489 0.07745039 0.07155743 0.07276007 0.07425135 0.07468431\n",
            " 0.07110042 0.07651233 0.07855683 0.08553217 0.08627781 0.09034275\n",
            " 0.09625977 0.10259771 0.09837643 0.09147779]\n",
            "\n",
            "2 day output: [[0.0941015]]\n",
            "\n",
            "3 day input:\n",
            "[0.06660253 0.06806975 0.06494287 0.05654841 0.05972339 0.06179194\n",
            " 0.06313891 0.06905592 0.07788334 0.07874925 0.07841251 0.07675286\n",
            " 0.08036079 0.08187613 0.07562237 0.0791341  0.0771377  0.07562237\n",
            " 0.09029465 0.09012628 0.09226699 0.08734817 0.0911365  0.09991581\n",
            " 0.09770295 0.10013229 0.11148527 0.10710764 0.10434155 0.1018641\n",
            " 0.09397474 0.09782321 0.08721587 0.09760673 0.10032471 0.09294047\n",
            " 0.09250752 0.09753458 0.0927721  0.08851473 0.09017438 0.10027661\n",
            " 0.11191822 0.11720986 0.12647023 0.1270475  0.12440168 0.11244738\n",
            " 0.10010824 0.10535177 0.10739627 0.10487072 0.11316897 0.11165364\n",
            " 0.11201443 0.10984967 0.10835839 0.10773301 0.10831028 0.10306675\n",
            " 0.09741431 0.09469633 0.09508118 0.0857727  0.08543596 0.08420926\n",
            " 0.07372219 0.07437162 0.09007817 0.08365604 0.07629585 0.07165364\n",
            " 0.07475646 0.06258569 0.07395069 0.07129284 0.07605532 0.0738184\n",
            " 0.08093806 0.08473842 0.08279014 0.07261575 0.0713169  0.07949489\n",
            " 0.07745039 0.07155743 0.07276007 0.07425135 0.07468431 0.07110042\n",
            " 0.07651233 0.07855683 0.08553217 0.08627781 0.09034275 0.09625977\n",
            " 0.10259771 0.09837643 0.09147779 0.0941015 ]\n",
            "\n",
            "3 day output: [[0.09563208]]\n",
            "\n",
            "4 day input:\n",
            "[0.06806975 0.06494287 0.05654841 0.05972339 0.06179194 0.06313891\n",
            " 0.06905592 0.07788334 0.07874925 0.07841251 0.07675286 0.08036079\n",
            " 0.08187613 0.07562237 0.0791341  0.0771377  0.07562237 0.09029465\n",
            " 0.09012628 0.09226699 0.08734817 0.0911365  0.09991581 0.09770295\n",
            " 0.10013229 0.11148527 0.10710764 0.10434155 0.1018641  0.09397474\n",
            " 0.09782321 0.08721587 0.09760673 0.10032471 0.09294047 0.09250752\n",
            " 0.09753458 0.0927721  0.08851473 0.09017438 0.10027661 0.11191822\n",
            " 0.11720986 0.12647023 0.1270475  0.12440168 0.11244738 0.10010824\n",
            " 0.10535177 0.10739627 0.10487072 0.11316897 0.11165364 0.11201443\n",
            " 0.10984967 0.10835839 0.10773301 0.10831028 0.10306675 0.09741431\n",
            " 0.09469633 0.09508118 0.0857727  0.08543596 0.08420926 0.07372219\n",
            " 0.07437162 0.09007817 0.08365604 0.07629585 0.07165364 0.07475646\n",
            " 0.06258569 0.07395069 0.07129284 0.07605532 0.0738184  0.08093806\n",
            " 0.08473842 0.08279014 0.07261575 0.0713169  0.07949489 0.07745039\n",
            " 0.07155743 0.07276007 0.07425135 0.07468431 0.07110042 0.07651233\n",
            " 0.07855683 0.08553217 0.08627781 0.09034275 0.09625977 0.10259771\n",
            " 0.09837643 0.09147779 0.0941015  0.09563208]\n",
            "\n",
            "4 day output: [[0.09634151]]\n",
            "\n",
            "5 day input:\n",
            "[0.06494287 0.05654841 0.05972339 0.06179194 0.06313891 0.06905592\n",
            " 0.07788334 0.07874925 0.07841251 0.07675286 0.08036079 0.08187613\n",
            " 0.07562237 0.0791341  0.0771377  0.07562237 0.09029465 0.09012628\n",
            " 0.09226699 0.08734817 0.0911365  0.09991581 0.09770295 0.10013229\n",
            " 0.11148527 0.10710764 0.10434155 0.1018641  0.09397474 0.09782321\n",
            " 0.08721587 0.09760673 0.10032471 0.09294047 0.09250752 0.09753458\n",
            " 0.0927721  0.08851473 0.09017438 0.10027661 0.11191822 0.11720986\n",
            " 0.12647023 0.1270475  0.12440168 0.11244738 0.10010824 0.10535177\n",
            " 0.10739627 0.10487072 0.11316897 0.11165364 0.11201443 0.10984967\n",
            " 0.10835839 0.10773301 0.10831028 0.10306675 0.09741431 0.09469633\n",
            " 0.09508118 0.0857727  0.08543596 0.08420926 0.07372219 0.07437162\n",
            " 0.09007817 0.08365604 0.07629585 0.07165364 0.07475646 0.06258569\n",
            " 0.07395069 0.07129284 0.07605532 0.0738184  0.08093806 0.08473842\n",
            " 0.08279014 0.07261575 0.0713169  0.07949489 0.07745039 0.07155743\n",
            " 0.07276007 0.07425135 0.07468431 0.07110042 0.07651233 0.07855683\n",
            " 0.08553217 0.08627781 0.09034275 0.09625977 0.10259771 0.09837643\n",
            " 0.09147779 0.0941015  0.09563208 0.09634151]\n",
            "\n",
            "5 day output: [[0.09653898]]\n",
            "\n",
            "6 day input:\n",
            "[0.05654841 0.05972339 0.06179194 0.06313891 0.06905592 0.07788334\n",
            " 0.07874925 0.07841251 0.07675286 0.08036079 0.08187613 0.07562237\n",
            " 0.0791341  0.0771377  0.07562237 0.09029465 0.09012628 0.09226699\n",
            " 0.08734817 0.0911365  0.09991581 0.09770295 0.10013229 0.11148527\n",
            " 0.10710764 0.10434155 0.1018641  0.09397474 0.09782321 0.08721587\n",
            " 0.09760673 0.10032471 0.09294047 0.09250752 0.09753458 0.0927721\n",
            " 0.08851473 0.09017438 0.10027661 0.11191822 0.11720986 0.12647023\n",
            " 0.1270475  0.12440168 0.11244738 0.10010824 0.10535177 0.10739627\n",
            " 0.10487072 0.11316897 0.11165364 0.11201443 0.10984967 0.10835839\n",
            " 0.10773301 0.10831028 0.10306675 0.09741431 0.09469633 0.09508118\n",
            " 0.0857727  0.08543596 0.08420926 0.07372219 0.07437162 0.09007817\n",
            " 0.08365604 0.07629585 0.07165364 0.07475646 0.06258569 0.07395069\n",
            " 0.07129284 0.07605532 0.0738184  0.08093806 0.08473842 0.08279014\n",
            " 0.07261575 0.0713169  0.07949489 0.07745039 0.07155743 0.07276007\n",
            " 0.07425135 0.07468431 0.07110042 0.07651233 0.07855683 0.08553217\n",
            " 0.08627781 0.09034275 0.09625977 0.10259771 0.09837643 0.09147779\n",
            " 0.0941015  0.09563208 0.09634151 0.09653898]\n",
            "\n",
            "6 day output: [[0.09646524]]\n",
            "\n",
            "7 day input:\n",
            "[0.05972339 0.06179194 0.06313891 0.06905592 0.07788334 0.07874925\n",
            " 0.07841251 0.07675286 0.08036079 0.08187613 0.07562237 0.0791341\n",
            " 0.0771377  0.07562237 0.09029465 0.09012628 0.09226699 0.08734817\n",
            " 0.0911365  0.09991581 0.09770295 0.10013229 0.11148527 0.10710764\n",
            " 0.10434155 0.1018641  0.09397474 0.09782321 0.08721587 0.09760673\n",
            " 0.10032471 0.09294047 0.09250752 0.09753458 0.0927721  0.08851473\n",
            " 0.09017438 0.10027661 0.11191822 0.11720986 0.12647023 0.1270475\n",
            " 0.12440168 0.11244738 0.10010824 0.10535177 0.10739627 0.10487072\n",
            " 0.11316897 0.11165364 0.11201443 0.10984967 0.10835839 0.10773301\n",
            " 0.10831028 0.10306675 0.09741431 0.09469633 0.09508118 0.0857727\n",
            " 0.08543596 0.08420926 0.07372219 0.07437162 0.09007817 0.08365604\n",
            " 0.07629585 0.07165364 0.07475646 0.06258569 0.07395069 0.07129284\n",
            " 0.07605532 0.0738184  0.08093806 0.08473842 0.08279014 0.07261575\n",
            " 0.0713169  0.07949489 0.07745039 0.07155743 0.07276007 0.07425135\n",
            " 0.07468431 0.07110042 0.07651233 0.07855683 0.08553217 0.08627781\n",
            " 0.09034275 0.09625977 0.10259771 0.09837643 0.09147779 0.0941015\n",
            " 0.09563208 0.09634151 0.09653898 0.09646524]\n",
            "\n",
            "7 day output: [[0.09627581]]\n",
            "\n",
            "8 day input:\n",
            "[0.06179194 0.06313891 0.06905592 0.07788334 0.07874925 0.07841251\n",
            " 0.07675286 0.08036079 0.08187613 0.07562237 0.0791341  0.0771377\n",
            " 0.07562237 0.09029465 0.09012628 0.09226699 0.08734817 0.0911365\n",
            " 0.09991581 0.09770295 0.10013229 0.11148527 0.10710764 0.10434155\n",
            " 0.1018641  0.09397474 0.09782321 0.08721587 0.09760673 0.10032471\n",
            " 0.09294047 0.09250752 0.09753458 0.0927721  0.08851473 0.09017438\n",
            " 0.10027661 0.11191822 0.11720986 0.12647023 0.1270475  0.12440168\n",
            " 0.11244738 0.10010824 0.10535177 0.10739627 0.10487072 0.11316897\n",
            " 0.11165364 0.11201443 0.10984967 0.10835839 0.10773301 0.10831028\n",
            " 0.10306675 0.09741431 0.09469633 0.09508118 0.0857727  0.08543596\n",
            " 0.08420926 0.07372219 0.07437162 0.09007817 0.08365604 0.07629585\n",
            " 0.07165364 0.07475646 0.06258569 0.07395069 0.07129284 0.07605532\n",
            " 0.0738184  0.08093806 0.08473842 0.08279014 0.07261575 0.0713169\n",
            " 0.07949489 0.07745039 0.07155743 0.07276007 0.07425135 0.07468431\n",
            " 0.07110042 0.07651233 0.07855683 0.08553217 0.08627781 0.09034275\n",
            " 0.09625977 0.10259771 0.09837643 0.09147779 0.0941015  0.09563208\n",
            " 0.09634151 0.09653898 0.09646524 0.09627581]\n",
            "\n",
            "8 day output: [[0.09605893]]\n",
            "\n",
            "9 day input:\n",
            "[0.06313891 0.06905592 0.07788334 0.07874925 0.07841251 0.07675286\n",
            " 0.08036079 0.08187613 0.07562237 0.0791341  0.0771377  0.07562237\n",
            " 0.09029465 0.09012628 0.09226699 0.08734817 0.0911365  0.09991581\n",
            " 0.09770295 0.10013229 0.11148527 0.10710764 0.10434155 0.1018641\n",
            " 0.09397474 0.09782321 0.08721587 0.09760673 0.10032471 0.09294047\n",
            " 0.09250752 0.09753458 0.0927721  0.08851473 0.09017438 0.10027661\n",
            " 0.11191822 0.11720986 0.12647023 0.1270475  0.12440168 0.11244738\n",
            " 0.10010824 0.10535177 0.10739627 0.10487072 0.11316897 0.11165364\n",
            " 0.11201443 0.10984967 0.10835839 0.10773301 0.10831028 0.10306675\n",
            " 0.09741431 0.09469633 0.09508118 0.0857727  0.08543596 0.08420926\n",
            " 0.07372219 0.07437162 0.09007817 0.08365604 0.07629585 0.07165364\n",
            " 0.07475646 0.06258569 0.07395069 0.07129284 0.07605532 0.0738184\n",
            " 0.08093806 0.08473842 0.08279014 0.07261575 0.0713169  0.07949489\n",
            " 0.07745039 0.07155743 0.07276007 0.07425135 0.07468431 0.07110042\n",
            " 0.07651233 0.07855683 0.08553217 0.08627781 0.09034275 0.09625977\n",
            " 0.10259771 0.09837643 0.09147779 0.0941015  0.09563208 0.09634151\n",
            " 0.09653898 0.09646524 0.09627581 0.09605893]\n",
            "\n",
            "9 day output: [[0.09585958]]\n",
            "\n",
            "10 day input:\n",
            "[0.06905592 0.07788334 0.07874925 0.07841251 0.07675286 0.08036079\n",
            " 0.08187613 0.07562237 0.0791341  0.0771377  0.07562237 0.09029465\n",
            " 0.09012628 0.09226699 0.08734817 0.0911365  0.09991581 0.09770295\n",
            " 0.10013229 0.11148527 0.10710764 0.10434155 0.1018641  0.09397474\n",
            " 0.09782321 0.08721587 0.09760673 0.10032471 0.09294047 0.09250752\n",
            " 0.09753458 0.0927721  0.08851473 0.09017438 0.10027661 0.11191822\n",
            " 0.11720986 0.12647023 0.1270475  0.12440168 0.11244738 0.10010824\n",
            " 0.10535177 0.10739627 0.10487072 0.11316897 0.11165364 0.11201443\n",
            " 0.10984967 0.10835839 0.10773301 0.10831028 0.10306675 0.09741431\n",
            " 0.09469633 0.09508118 0.0857727  0.08543596 0.08420926 0.07372219\n",
            " 0.07437162 0.09007817 0.08365604 0.07629585 0.07165364 0.07475646\n",
            " 0.06258569 0.07395069 0.07129284 0.07605532 0.0738184  0.08093806\n",
            " 0.08473842 0.08279014 0.07261575 0.0713169  0.07949489 0.07745039\n",
            " 0.07155743 0.07276007 0.07425135 0.07468431 0.07110042 0.07651233\n",
            " 0.07855683 0.08553217 0.08627781 0.09034275 0.09625977 0.10259771\n",
            " 0.09837643 0.09147779 0.0941015  0.09563208 0.09634151 0.09653898\n",
            " 0.09646524 0.09627581 0.09605893 0.09585958]\n",
            "\n",
            "10 day output: [[0.09569869]]\n",
            "\n",
            "11 day input:\n",
            "[0.07788334 0.07874925 0.07841251 0.07675286 0.08036079 0.08187613\n",
            " 0.07562237 0.0791341  0.0771377  0.07562237 0.09029465 0.09012628\n",
            " 0.09226699 0.08734817 0.0911365  0.09991581 0.09770295 0.10013229\n",
            " 0.11148527 0.10710764 0.10434155 0.1018641  0.09397474 0.09782321\n",
            " 0.08721587 0.09760673 0.10032471 0.09294047 0.09250752 0.09753458\n",
            " 0.0927721  0.08851473 0.09017438 0.10027661 0.11191822 0.11720986\n",
            " 0.12647023 0.1270475  0.12440168 0.11244738 0.10010824 0.10535177\n",
            " 0.10739627 0.10487072 0.11316897 0.11165364 0.11201443 0.10984967\n",
            " 0.10835839 0.10773301 0.10831028 0.10306675 0.09741431 0.09469633\n",
            " 0.09508118 0.0857727  0.08543596 0.08420926 0.07372219 0.07437162\n",
            " 0.09007817 0.08365604 0.07629585 0.07165364 0.07475646 0.06258569\n",
            " 0.07395069 0.07129284 0.07605532 0.0738184  0.08093806 0.08473842\n",
            " 0.08279014 0.07261575 0.0713169  0.07949489 0.07745039 0.07155743\n",
            " 0.07276007 0.07425135 0.07468431 0.07110042 0.07651233 0.07855683\n",
            " 0.08553217 0.08627781 0.09034275 0.09625977 0.10259771 0.09837643\n",
            " 0.09147779 0.0941015  0.09563208 0.09634151 0.09653898 0.09646524\n",
            " 0.09627581 0.09605893 0.09585958 0.09569869]\n",
            "\n",
            "11 day output: [[0.09558504]]\n",
            "\n",
            "12 day input:\n",
            "[0.07874925 0.07841251 0.07675286 0.08036079 0.08187613 0.07562237\n",
            " 0.0791341  0.0771377  0.07562237 0.09029465 0.09012628 0.09226699\n",
            " 0.08734817 0.0911365  0.09991581 0.09770295 0.10013229 0.11148527\n",
            " 0.10710764 0.10434155 0.1018641  0.09397474 0.09782321 0.08721587\n",
            " 0.09760673 0.10032471 0.09294047 0.09250752 0.09753458 0.0927721\n",
            " 0.08851473 0.09017438 0.10027661 0.11191822 0.11720986 0.12647023\n",
            " 0.1270475  0.12440168 0.11244738 0.10010824 0.10535177 0.10739627\n",
            " 0.10487072 0.11316897 0.11165364 0.11201443 0.10984967 0.10835839\n",
            " 0.10773301 0.10831028 0.10306675 0.09741431 0.09469633 0.09508118\n",
            " 0.0857727  0.08543596 0.08420926 0.07372219 0.07437162 0.09007817\n",
            " 0.08365604 0.07629585 0.07165364 0.07475646 0.06258569 0.07395069\n",
            " 0.07129284 0.07605532 0.0738184  0.08093806 0.08473842 0.08279014\n",
            " 0.07261575 0.0713169  0.07949489 0.07745039 0.07155743 0.07276007\n",
            " 0.07425135 0.07468431 0.07110042 0.07651233 0.07855683 0.08553217\n",
            " 0.08627781 0.09034275 0.09625977 0.10259771 0.09837643 0.09147779\n",
            " 0.0941015  0.09563208 0.09634151 0.09653898 0.09646524 0.09627581\n",
            " 0.09605893 0.09585958 0.09569869 0.09558504]\n",
            "\n",
            "12 day output: [[0.09552162]]\n",
            "\n",
            "13 day input:\n",
            "[0.07841251 0.07675286 0.08036079 0.08187613 0.07562237 0.0791341\n",
            " 0.0771377  0.07562237 0.09029465 0.09012628 0.09226699 0.08734817\n",
            " 0.0911365  0.09991581 0.09770295 0.10013229 0.11148527 0.10710764\n",
            " 0.10434155 0.1018641  0.09397474 0.09782321 0.08721587 0.09760673\n",
            " 0.10032471 0.09294047 0.09250752 0.09753458 0.0927721  0.08851473\n",
            " 0.09017438 0.10027661 0.11191822 0.11720986 0.12647023 0.1270475\n",
            " 0.12440168 0.11244738 0.10010824 0.10535177 0.10739627 0.10487072\n",
            " 0.11316897 0.11165364 0.11201443 0.10984967 0.10835839 0.10773301\n",
            " 0.10831028 0.10306675 0.09741431 0.09469633 0.09508118 0.0857727\n",
            " 0.08543596 0.08420926 0.07372219 0.07437162 0.09007817 0.08365604\n",
            " 0.07629585 0.07165364 0.07475646 0.06258569 0.07395069 0.07129284\n",
            " 0.07605532 0.0738184  0.08093806 0.08473842 0.08279014 0.07261575\n",
            " 0.0713169  0.07949489 0.07745039 0.07155743 0.07276007 0.07425135\n",
            " 0.07468431 0.07110042 0.07651233 0.07855683 0.08553217 0.08627781\n",
            " 0.09034275 0.09625977 0.10259771 0.09837643 0.09147779 0.0941015\n",
            " 0.09563208 0.09634151 0.09653898 0.09646524 0.09627581 0.09605893\n",
            " 0.09585958 0.09569869 0.09558504 0.09552162]\n",
            "\n",
            "13 day output: [[0.09550852]]\n",
            "\n",
            "14 day input:\n",
            "[0.07675286 0.08036079 0.08187613 0.07562237 0.0791341  0.0771377\n",
            " 0.07562237 0.09029465 0.09012628 0.09226699 0.08734817 0.0911365\n",
            " 0.09991581 0.09770295 0.10013229 0.11148527 0.10710764 0.10434155\n",
            " 0.1018641  0.09397474 0.09782321 0.08721587 0.09760673 0.10032471\n",
            " 0.09294047 0.09250752 0.09753458 0.0927721  0.08851473 0.09017438\n",
            " 0.10027661 0.11191822 0.11720986 0.12647023 0.1270475  0.12440168\n",
            " 0.11244738 0.10010824 0.10535177 0.10739627 0.10487072 0.11316897\n",
            " 0.11165364 0.11201443 0.10984967 0.10835839 0.10773301 0.10831028\n",
            " 0.10306675 0.09741431 0.09469633 0.09508118 0.0857727  0.08543596\n",
            " 0.08420926 0.07372219 0.07437162 0.09007817 0.08365604 0.07629585\n",
            " 0.07165364 0.07475646 0.06258569 0.07395069 0.07129284 0.07605532\n",
            " 0.0738184  0.08093806 0.08473842 0.08279014 0.07261575 0.0713169\n",
            " 0.07949489 0.07745039 0.07155743 0.07276007 0.07425135 0.07468431\n",
            " 0.07110042 0.07651233 0.07855683 0.08553217 0.08627781 0.09034275\n",
            " 0.09625977 0.10259771 0.09837643 0.09147779 0.0941015  0.09563208\n",
            " 0.09634151 0.09653898 0.09646524 0.09627581 0.09605893 0.09585958\n",
            " 0.09569869 0.09558504 0.09552162 0.09550852]\n",
            "\n",
            "14 day output: [[0.0955439]]\n",
            "\n",
            "15 day input:\n",
            "[0.08036079 0.08187613 0.07562237 0.0791341  0.0771377  0.07562237\n",
            " 0.09029465 0.09012628 0.09226699 0.08734817 0.0911365  0.09991581\n",
            " 0.09770295 0.10013229 0.11148527 0.10710764 0.10434155 0.1018641\n",
            " 0.09397474 0.09782321 0.08721587 0.09760673 0.10032471 0.09294047\n",
            " 0.09250752 0.09753458 0.0927721  0.08851473 0.09017438 0.10027661\n",
            " 0.11191822 0.11720986 0.12647023 0.1270475  0.12440168 0.11244738\n",
            " 0.10010824 0.10535177 0.10739627 0.10487072 0.11316897 0.11165364\n",
            " 0.11201443 0.10984967 0.10835839 0.10773301 0.10831028 0.10306675\n",
            " 0.09741431 0.09469633 0.09508118 0.0857727  0.08543596 0.08420926\n",
            " 0.07372219 0.07437162 0.09007817 0.08365604 0.07629585 0.07165364\n",
            " 0.07475646 0.06258569 0.07395069 0.07129284 0.07605532 0.0738184\n",
            " 0.08093806 0.08473842 0.08279014 0.07261575 0.0713169  0.07949489\n",
            " 0.07745039 0.07155743 0.07276007 0.07425135 0.07468431 0.07110042\n",
            " 0.07651233 0.07855683 0.08553217 0.08627781 0.09034275 0.09625977\n",
            " 0.10259771 0.09837643 0.09147779 0.0941015  0.09563208 0.09634151\n",
            " 0.09653898 0.09646524 0.09627581 0.09605893 0.09585958 0.09569869\n",
            " 0.09558504 0.09552162 0.09550852 0.0955439 ]\n",
            "\n",
            "15 day output: [[0.09562449]]\n",
            "\n",
            "16 day input:\n",
            "[0.08187613 0.07562237 0.0791341  0.0771377  0.07562237 0.09029465\n",
            " 0.09012628 0.09226699 0.08734817 0.0911365  0.09991581 0.09770295\n",
            " 0.10013229 0.11148527 0.10710764 0.10434155 0.1018641  0.09397474\n",
            " 0.09782321 0.08721587 0.09760673 0.10032471 0.09294047 0.09250752\n",
            " 0.09753458 0.0927721  0.08851473 0.09017438 0.10027661 0.11191822\n",
            " 0.11720986 0.12647023 0.1270475  0.12440168 0.11244738 0.10010824\n",
            " 0.10535177 0.10739627 0.10487072 0.11316897 0.11165364 0.11201443\n",
            " 0.10984967 0.10835839 0.10773301 0.10831028 0.10306675 0.09741431\n",
            " 0.09469633 0.09508118 0.0857727  0.08543596 0.08420926 0.07372219\n",
            " 0.07437162 0.09007817 0.08365604 0.07629585 0.07165364 0.07475646\n",
            " 0.06258569 0.07395069 0.07129284 0.07605532 0.0738184  0.08093806\n",
            " 0.08473842 0.08279014 0.07261575 0.0713169  0.07949489 0.07745039\n",
            " 0.07155743 0.07276007 0.07425135 0.07468431 0.07110042 0.07651233\n",
            " 0.07855683 0.08553217 0.08627781 0.09034275 0.09625977 0.10259771\n",
            " 0.09837643 0.09147779 0.0941015  0.09563208 0.09634151 0.09653898\n",
            " 0.09646524 0.09627581 0.09605893 0.09585958 0.09569869 0.09558504\n",
            " 0.09552162 0.09550852 0.0955439  0.09562449]\n",
            "\n",
            "16 day output: [[0.09574572]]\n",
            "\n",
            "17 day input:\n",
            "[0.07562237 0.0791341  0.0771377  0.07562237 0.09029465 0.09012628\n",
            " 0.09226699 0.08734817 0.0911365  0.09991581 0.09770295 0.10013229\n",
            " 0.11148527 0.10710764 0.10434155 0.1018641  0.09397474 0.09782321\n",
            " 0.08721587 0.09760673 0.10032471 0.09294047 0.09250752 0.09753458\n",
            " 0.0927721  0.08851473 0.09017438 0.10027661 0.11191822 0.11720986\n",
            " 0.12647023 0.1270475  0.12440168 0.11244738 0.10010824 0.10535177\n",
            " 0.10739627 0.10487072 0.11316897 0.11165364 0.11201443 0.10984967\n",
            " 0.10835839 0.10773301 0.10831028 0.10306675 0.09741431 0.09469633\n",
            " 0.09508118 0.0857727  0.08543596 0.08420926 0.07372219 0.07437162\n",
            " 0.09007817 0.08365604 0.07629585 0.07165364 0.07475646 0.06258569\n",
            " 0.07395069 0.07129284 0.07605532 0.0738184  0.08093806 0.08473842\n",
            " 0.08279014 0.07261575 0.0713169  0.07949489 0.07745039 0.07155743\n",
            " 0.07276007 0.07425135 0.07468431 0.07110042 0.07651233 0.07855683\n",
            " 0.08553217 0.08627781 0.09034275 0.09625977 0.10259771 0.09837643\n",
            " 0.09147779 0.0941015  0.09563208 0.09634151 0.09653898 0.09646524\n",
            " 0.09627581 0.09605893 0.09585958 0.09569869 0.09558504 0.09552162\n",
            " 0.09550852 0.0955439  0.09562449 0.09574572]\n",
            "\n",
            "17 day output: [[0.09590204]]\n",
            "\n",
            "18 day input:\n",
            "[0.0791341  0.0771377  0.07562237 0.09029465 0.09012628 0.09226699\n",
            " 0.08734817 0.0911365  0.09991581 0.09770295 0.10013229 0.11148527\n",
            " 0.10710764 0.10434155 0.1018641  0.09397474 0.09782321 0.08721587\n",
            " 0.09760673 0.10032471 0.09294047 0.09250752 0.09753458 0.0927721\n",
            " 0.08851473 0.09017438 0.10027661 0.11191822 0.11720986 0.12647023\n",
            " 0.1270475  0.12440168 0.11244738 0.10010824 0.10535177 0.10739627\n",
            " 0.10487072 0.11316897 0.11165364 0.11201443 0.10984967 0.10835839\n",
            " 0.10773301 0.10831028 0.10306675 0.09741431 0.09469633 0.09508118\n",
            " 0.0857727  0.08543596 0.08420926 0.07372219 0.07437162 0.09007817\n",
            " 0.08365604 0.07629585 0.07165364 0.07475646 0.06258569 0.07395069\n",
            " 0.07129284 0.07605532 0.0738184  0.08093806 0.08473842 0.08279014\n",
            " 0.07261575 0.0713169  0.07949489 0.07745039 0.07155743 0.07276007\n",
            " 0.07425135 0.07468431 0.07110042 0.07651233 0.07855683 0.08553217\n",
            " 0.08627781 0.09034275 0.09625977 0.10259771 0.09837643 0.09147779\n",
            " 0.0941015  0.09563208 0.09634151 0.09653898 0.09646524 0.09627581\n",
            " 0.09605893 0.09585958 0.09569869 0.09558504 0.09552162 0.09550852\n",
            " 0.0955439  0.09562449 0.09574572 0.09590204]\n",
            "\n",
            "18 day output: [[0.09608728]]\n",
            "\n",
            "19 day input:\n",
            "[0.0771377  0.07562237 0.09029465 0.09012628 0.09226699 0.08734817\n",
            " 0.0911365  0.09991581 0.09770295 0.10013229 0.11148527 0.10710764\n",
            " 0.10434155 0.1018641  0.09397474 0.09782321 0.08721587 0.09760673\n",
            " 0.10032471 0.09294047 0.09250752 0.09753458 0.0927721  0.08851473\n",
            " 0.09017438 0.10027661 0.11191822 0.11720986 0.12647023 0.1270475\n",
            " 0.12440168 0.11244738 0.10010824 0.10535177 0.10739627 0.10487072\n",
            " 0.11316897 0.11165364 0.11201443 0.10984967 0.10835839 0.10773301\n",
            " 0.10831028 0.10306675 0.09741431 0.09469633 0.09508118 0.0857727\n",
            " 0.08543596 0.08420926 0.07372219 0.07437162 0.09007817 0.08365604\n",
            " 0.07629585 0.07165364 0.07475646 0.06258569 0.07395069 0.07129284\n",
            " 0.07605532 0.0738184  0.08093806 0.08473842 0.08279014 0.07261575\n",
            " 0.0713169  0.07949489 0.07745039 0.07155743 0.07276007 0.07425135\n",
            " 0.07468431 0.07110042 0.07651233 0.07855683 0.08553217 0.08627781\n",
            " 0.09034275 0.09625977 0.10259771 0.09837643 0.09147779 0.0941015\n",
            " 0.09563208 0.09634151 0.09653898 0.09646524 0.09627581 0.09605893\n",
            " 0.09585958 0.09569869 0.09558504 0.09552162 0.09550852 0.0955439\n",
            " 0.09562449 0.09574572 0.09590204 0.09608728]\n",
            "\n",
            "19 day output: [[0.09629509]]\n",
            "\n",
            "20 day input:\n",
            "[0.07562237 0.09029465 0.09012628 0.09226699 0.08734817 0.0911365\n",
            " 0.09991581 0.09770295 0.10013229 0.11148527 0.10710764 0.10434155\n",
            " 0.1018641  0.09397474 0.09782321 0.08721587 0.09760673 0.10032471\n",
            " 0.09294047 0.09250752 0.09753458 0.0927721  0.08851473 0.09017438\n",
            " 0.10027661 0.11191822 0.11720986 0.12647023 0.1270475  0.12440168\n",
            " 0.11244738 0.10010824 0.10535177 0.10739627 0.10487072 0.11316897\n",
            " 0.11165364 0.11201443 0.10984967 0.10835839 0.10773301 0.10831028\n",
            " 0.10306675 0.09741431 0.09469633 0.09508118 0.0857727  0.08543596\n",
            " 0.08420926 0.07372219 0.07437162 0.09007817 0.08365604 0.07629585\n",
            " 0.07165364 0.07475646 0.06258569 0.07395069 0.07129284 0.07605532\n",
            " 0.0738184  0.08093806 0.08473842 0.08279014 0.07261575 0.0713169\n",
            " 0.07949489 0.07745039 0.07155743 0.07276007 0.07425135 0.07468431\n",
            " 0.07110042 0.07651233 0.07855683 0.08553217 0.08627781 0.09034275\n",
            " 0.09625977 0.10259771 0.09837643 0.09147779 0.0941015  0.09563208\n",
            " 0.09634151 0.09653898 0.09646524 0.09627581 0.09605893 0.09585958\n",
            " 0.09569869 0.09558504 0.09552162 0.09550852 0.0955439  0.09562449\n",
            " 0.09574572 0.09590204 0.09608728 0.09629509]\n",
            "\n",
            "20 day output: [[0.09651911]]\n",
            "\n",
            "21 day input:\n",
            "[0.09029465 0.09012628 0.09226699 0.08734817 0.0911365  0.09991581\n",
            " 0.09770295 0.10013229 0.11148527 0.10710764 0.10434155 0.1018641\n",
            " 0.09397474 0.09782321 0.08721587 0.09760673 0.10032471 0.09294047\n",
            " 0.09250752 0.09753458 0.0927721  0.08851473 0.09017438 0.10027661\n",
            " 0.11191822 0.11720986 0.12647023 0.1270475  0.12440168 0.11244738\n",
            " 0.10010824 0.10535177 0.10739627 0.10487072 0.11316897 0.11165364\n",
            " 0.11201443 0.10984967 0.10835839 0.10773301 0.10831028 0.10306675\n",
            " 0.09741431 0.09469633 0.09508118 0.0857727  0.08543596 0.08420926\n",
            " 0.07372219 0.07437162 0.09007817 0.08365604 0.07629585 0.07165364\n",
            " 0.07475646 0.06258569 0.07395069 0.07129284 0.07605532 0.0738184\n",
            " 0.08093806 0.08473842 0.08279014 0.07261575 0.0713169  0.07949489\n",
            " 0.07745039 0.07155743 0.07276007 0.07425135 0.07468431 0.07110042\n",
            " 0.07651233 0.07855683 0.08553217 0.08627781 0.09034275 0.09625977\n",
            " 0.10259771 0.09837643 0.09147779 0.0941015  0.09563208 0.09634151\n",
            " 0.09653898 0.09646524 0.09627581 0.09605893 0.09585958 0.09569869\n",
            " 0.09558504 0.09552162 0.09550852 0.0955439  0.09562449 0.09574572\n",
            " 0.09590204 0.09608728 0.09629509 0.09651911]\n",
            "\n",
            "21 day output: [[0.09675351]]\n",
            "\n",
            "22 day input:\n",
            "[0.09012628 0.09226699 0.08734817 0.0911365  0.09991581 0.09770295\n",
            " 0.10013229 0.11148527 0.10710764 0.10434155 0.1018641  0.09397474\n",
            " 0.09782321 0.08721587 0.09760673 0.10032471 0.09294047 0.09250752\n",
            " 0.09753458 0.0927721  0.08851473 0.09017438 0.10027661 0.11191822\n",
            " 0.11720986 0.12647023 0.1270475  0.12440168 0.11244738 0.10010824\n",
            " 0.10535177 0.10739627 0.10487072 0.11316897 0.11165364 0.11201443\n",
            " 0.10984967 0.10835839 0.10773301 0.10831028 0.10306675 0.09741431\n",
            " 0.09469633 0.09508118 0.0857727  0.08543596 0.08420926 0.07372219\n",
            " 0.07437162 0.09007817 0.08365604 0.07629585 0.07165364 0.07475646\n",
            " 0.06258569 0.07395069 0.07129284 0.07605532 0.0738184  0.08093806\n",
            " 0.08473842 0.08279014 0.07261575 0.0713169  0.07949489 0.07745039\n",
            " 0.07155743 0.07276007 0.07425135 0.07468431 0.07110042 0.07651233\n",
            " 0.07855683 0.08553217 0.08627781 0.09034275 0.09625977 0.10259771\n",
            " 0.09837643 0.09147779 0.0941015  0.09563208 0.09634151 0.09653898\n",
            " 0.09646524 0.09627581 0.09605893 0.09585958 0.09569869 0.09558504\n",
            " 0.09552162 0.09550852 0.0955439  0.09562449 0.09574572 0.09590204\n",
            " 0.09608728 0.09629509 0.09651911 0.09675351]\n",
            "\n",
            "22 day output: [[0.09699295]]\n",
            "\n",
            "23 day input:\n",
            "[0.09226699 0.08734817 0.0911365  0.09991581 0.09770295 0.10013229\n",
            " 0.11148527 0.10710764 0.10434155 0.1018641  0.09397474 0.09782321\n",
            " 0.08721587 0.09760673 0.10032471 0.09294047 0.09250752 0.09753458\n",
            " 0.0927721  0.08851473 0.09017438 0.10027661 0.11191822 0.11720986\n",
            " 0.12647023 0.1270475  0.12440168 0.11244738 0.10010824 0.10535177\n",
            " 0.10739627 0.10487072 0.11316897 0.11165364 0.11201443 0.10984967\n",
            " 0.10835839 0.10773301 0.10831028 0.10306675 0.09741431 0.09469633\n",
            " 0.09508118 0.0857727  0.08543596 0.08420926 0.07372219 0.07437162\n",
            " 0.09007817 0.08365604 0.07629585 0.07165364 0.07475646 0.06258569\n",
            " 0.07395069 0.07129284 0.07605532 0.0738184  0.08093806 0.08473842\n",
            " 0.08279014 0.07261575 0.0713169  0.07949489 0.07745039 0.07155743\n",
            " 0.07276007 0.07425135 0.07468431 0.07110042 0.07651233 0.07855683\n",
            " 0.08553217 0.08627781 0.09034275 0.09625977 0.10259771 0.09837643\n",
            " 0.09147779 0.0941015  0.09563208 0.09634151 0.09653898 0.09646524\n",
            " 0.09627581 0.09605893 0.09585958 0.09569869 0.09558504 0.09552162\n",
            " 0.09550852 0.0955439  0.09562449 0.09574572 0.09590204 0.09608728\n",
            " 0.09629509 0.09651911 0.09675351 0.09699295]\n",
            "\n",
            "23 day output: [[0.09723295]]\n",
            "\n",
            "24 day input:\n",
            "[0.08734817 0.0911365  0.09991581 0.09770295 0.10013229 0.11148527\n",
            " 0.10710764 0.10434155 0.1018641  0.09397474 0.09782321 0.08721587\n",
            " 0.09760673 0.10032471 0.09294047 0.09250752 0.09753458 0.0927721\n",
            " 0.08851473 0.09017438 0.10027661 0.11191822 0.11720986 0.12647023\n",
            " 0.1270475  0.12440168 0.11244738 0.10010824 0.10535177 0.10739627\n",
            " 0.10487072 0.11316897 0.11165364 0.11201443 0.10984967 0.10835839\n",
            " 0.10773301 0.10831028 0.10306675 0.09741431 0.09469633 0.09508118\n",
            " 0.0857727  0.08543596 0.08420926 0.07372219 0.07437162 0.09007817\n",
            " 0.08365604 0.07629585 0.07165364 0.07475646 0.06258569 0.07395069\n",
            " 0.07129284 0.07605532 0.0738184  0.08093806 0.08473842 0.08279014\n",
            " 0.07261575 0.0713169  0.07949489 0.07745039 0.07155743 0.07276007\n",
            " 0.07425135 0.07468431 0.07110042 0.07651233 0.07855683 0.08553217\n",
            " 0.08627781 0.09034275 0.09625977 0.10259771 0.09837643 0.09147779\n",
            " 0.0941015  0.09563208 0.09634151 0.09653898 0.09646524 0.09627581\n",
            " 0.09605893 0.09585958 0.09569869 0.09558504 0.09552162 0.09550852\n",
            " 0.0955439  0.09562449 0.09574572 0.09590204 0.09608728 0.09629509\n",
            " 0.09651911 0.09675351 0.09699295 0.09723295]\n",
            "\n",
            "24 day output: [[0.09746981]]\n",
            "\n",
            "25 day input:\n",
            "[0.0911365  0.09991581 0.09770295 0.10013229 0.11148527 0.10710764\n",
            " 0.10434155 0.1018641  0.09397474 0.09782321 0.08721587 0.09760673\n",
            " 0.10032471 0.09294047 0.09250752 0.09753458 0.0927721  0.08851473\n",
            " 0.09017438 0.10027661 0.11191822 0.11720986 0.12647023 0.1270475\n",
            " 0.12440168 0.11244738 0.10010824 0.10535177 0.10739627 0.10487072\n",
            " 0.11316897 0.11165364 0.11201443 0.10984967 0.10835839 0.10773301\n",
            " 0.10831028 0.10306675 0.09741431 0.09469633 0.09508118 0.0857727\n",
            " 0.08543596 0.08420926 0.07372219 0.07437162 0.09007817 0.08365604\n",
            " 0.07629585 0.07165364 0.07475646 0.06258569 0.07395069 0.07129284\n",
            " 0.07605532 0.0738184  0.08093806 0.08473842 0.08279014 0.07261575\n",
            " 0.0713169  0.07949489 0.07745039 0.07155743 0.07276007 0.07425135\n",
            " 0.07468431 0.07110042 0.07651233 0.07855683 0.08553217 0.08627781\n",
            " 0.09034275 0.09625977 0.10259771 0.09837643 0.09147779 0.0941015\n",
            " 0.09563208 0.09634151 0.09653898 0.09646524 0.09627581 0.09605893\n",
            " 0.09585958 0.09569869 0.09558504 0.09552162 0.09550852 0.0955439\n",
            " 0.09562449 0.09574572 0.09590204 0.09608728 0.09629509 0.09651911\n",
            " 0.09675351 0.09699295 0.09723295 0.09746981]\n",
            "\n",
            "25 day output: [[0.09770068]]\n",
            "\n",
            "26 day input:\n",
            "[0.09991581 0.09770295 0.10013229 0.11148527 0.10710764 0.10434155\n",
            " 0.1018641  0.09397474 0.09782321 0.08721587 0.09760673 0.10032471\n",
            " 0.09294047 0.09250752 0.09753458 0.0927721  0.08851473 0.09017438\n",
            " 0.10027661 0.11191822 0.11720986 0.12647023 0.1270475  0.12440168\n",
            " 0.11244738 0.10010824 0.10535177 0.10739627 0.10487072 0.11316897\n",
            " 0.11165364 0.11201443 0.10984967 0.10835839 0.10773301 0.10831028\n",
            " 0.10306675 0.09741431 0.09469633 0.09508118 0.0857727  0.08543596\n",
            " 0.08420926 0.07372219 0.07437162 0.09007817 0.08365604 0.07629585\n",
            " 0.07165364 0.07475646 0.06258569 0.07395069 0.07129284 0.07605532\n",
            " 0.0738184  0.08093806 0.08473842 0.08279014 0.07261575 0.0713169\n",
            " 0.07949489 0.07745039 0.07155743 0.07276007 0.07425135 0.07468431\n",
            " 0.07110042 0.07651233 0.07855683 0.08553217 0.08627781 0.09034275\n",
            " 0.09625977 0.10259771 0.09837643 0.09147779 0.0941015  0.09563208\n",
            " 0.09634151 0.09653898 0.09646524 0.09627581 0.09605893 0.09585958\n",
            " 0.09569869 0.09558504 0.09552162 0.09550852 0.0955439  0.09562449\n",
            " 0.09574572 0.09590204 0.09608728 0.09629509 0.09651911 0.09675351\n",
            " 0.09699295 0.09723295 0.09746981 0.09770068]\n",
            "\n",
            "26 day output: [[0.09792352]]\n",
            "\n",
            "27 day input:\n",
            "[0.09770295 0.10013229 0.11148527 0.10710764 0.10434155 0.1018641\n",
            " 0.09397474 0.09782321 0.08721587 0.09760673 0.10032471 0.09294047\n",
            " 0.09250752 0.09753458 0.0927721  0.08851473 0.09017438 0.10027661\n",
            " 0.11191822 0.11720986 0.12647023 0.1270475  0.12440168 0.11244738\n",
            " 0.10010824 0.10535177 0.10739627 0.10487072 0.11316897 0.11165364\n",
            " 0.11201443 0.10984967 0.10835839 0.10773301 0.10831028 0.10306675\n",
            " 0.09741431 0.09469633 0.09508118 0.0857727  0.08543596 0.08420926\n",
            " 0.07372219 0.07437162 0.09007817 0.08365604 0.07629585 0.07165364\n",
            " 0.07475646 0.06258569 0.07395069 0.07129284 0.07605532 0.0738184\n",
            " 0.08093806 0.08473842 0.08279014 0.07261575 0.0713169  0.07949489\n",
            " 0.07745039 0.07155743 0.07276007 0.07425135 0.07468431 0.07110042\n",
            " 0.07651233 0.07855683 0.08553217 0.08627781 0.09034275 0.09625977\n",
            " 0.10259771 0.09837643 0.09147779 0.0941015  0.09563208 0.09634151\n",
            " 0.09653898 0.09646524 0.09627581 0.09605893 0.09585958 0.09569869\n",
            " 0.09558504 0.09552162 0.09550852 0.0955439  0.09562449 0.09574572\n",
            " 0.09590204 0.09608728 0.09629509 0.09651911 0.09675351 0.09699295\n",
            " 0.09723295 0.09746981 0.09770068 0.09792352]\n",
            "\n",
            "27 day output: [[0.0981371]]\n",
            "\n",
            "28 day input:\n",
            "[0.10013229 0.11148527 0.10710764 0.10434155 0.1018641  0.09397474\n",
            " 0.09782321 0.08721587 0.09760673 0.10032471 0.09294047 0.09250752\n",
            " 0.09753458 0.0927721  0.08851473 0.09017438 0.10027661 0.11191822\n",
            " 0.11720986 0.12647023 0.1270475  0.12440168 0.11244738 0.10010824\n",
            " 0.10535177 0.10739627 0.10487072 0.11316897 0.11165364 0.11201443\n",
            " 0.10984967 0.10835839 0.10773301 0.10831028 0.10306675 0.09741431\n",
            " 0.09469633 0.09508118 0.0857727  0.08543596 0.08420926 0.07372219\n",
            " 0.07437162 0.09007817 0.08365604 0.07629585 0.07165364 0.07475646\n",
            " 0.06258569 0.07395069 0.07129284 0.07605532 0.0738184  0.08093806\n",
            " 0.08473842 0.08279014 0.07261575 0.0713169  0.07949489 0.07745039\n",
            " 0.07155743 0.07276007 0.07425135 0.07468431 0.07110042 0.07651233\n",
            " 0.07855683 0.08553217 0.08627781 0.09034275 0.09625977 0.10259771\n",
            " 0.09837643 0.09147779 0.0941015  0.09563208 0.09634151 0.09653898\n",
            " 0.09646524 0.09627581 0.09605893 0.09585958 0.09569869 0.09558504\n",
            " 0.09552162 0.09550852 0.0955439  0.09562449 0.09574572 0.09590204\n",
            " 0.09608728 0.09629509 0.09651911 0.09675351 0.09699295 0.09723295\n",
            " 0.09746981 0.09770068 0.09792352 0.0981371 ]\n",
            "\n",
            "28 day output: [[0.09834074]]\n",
            "\n",
            "29 day input:\n",
            "[0.11148527 0.10710764 0.10434155 0.1018641  0.09397474 0.09782321\n",
            " 0.08721587 0.09760673 0.10032471 0.09294047 0.09250752 0.09753458\n",
            " 0.0927721  0.08851473 0.09017438 0.10027661 0.11191822 0.11720986\n",
            " 0.12647023 0.1270475  0.12440168 0.11244738 0.10010824 0.10535177\n",
            " 0.10739627 0.10487072 0.11316897 0.11165364 0.11201443 0.10984967\n",
            " 0.10835839 0.10773301 0.10831028 0.10306675 0.09741431 0.09469633\n",
            " 0.09508118 0.0857727  0.08543596 0.08420926 0.07372219 0.07437162\n",
            " 0.09007817 0.08365604 0.07629585 0.07165364 0.07475646 0.06258569\n",
            " 0.07395069 0.07129284 0.07605532 0.0738184  0.08093806 0.08473842\n",
            " 0.08279014 0.07261575 0.0713169  0.07949489 0.07745039 0.07155743\n",
            " 0.07276007 0.07425135 0.07468431 0.07110042 0.07651233 0.07855683\n",
            " 0.08553217 0.08627781 0.09034275 0.09625977 0.10259771 0.09837643\n",
            " 0.09147779 0.0941015  0.09563208 0.09634151 0.09653898 0.09646524\n",
            " 0.09627581 0.09605893 0.09585958 0.09569869 0.09558504 0.09552162\n",
            " 0.09550852 0.0955439  0.09562449 0.09574572 0.09590204 0.09608728\n",
            " 0.09629509 0.09651911 0.09675351 0.09699295 0.09723295 0.09746981\n",
            " 0.09770068 0.09792352 0.0981371  0.09834074]\n",
            "\n",
            "29 day output: [[0.09853435]]\n",
            "\n",
            "30 day input:\n",
            "[0.10710764 0.10434155 0.1018641  0.09397474 0.09782321 0.08721587\n",
            " 0.09760673 0.10032471 0.09294047 0.09250752 0.09753458 0.0927721\n",
            " 0.08851473 0.09017438 0.10027661 0.11191822 0.11720986 0.12647023\n",
            " 0.1270475  0.12440168 0.11244738 0.10010824 0.10535177 0.10739627\n",
            " 0.10487072 0.11316897 0.11165364 0.11201443 0.10984967 0.10835839\n",
            " 0.10773301 0.10831028 0.10306675 0.09741431 0.09469633 0.09508118\n",
            " 0.0857727  0.08543596 0.08420926 0.07372219 0.07437162 0.09007817\n",
            " 0.08365604 0.07629585 0.07165364 0.07475646 0.06258569 0.07395069\n",
            " 0.07129284 0.07605532 0.0738184  0.08093806 0.08473842 0.08279014\n",
            " 0.07261575 0.0713169  0.07949489 0.07745039 0.07155743 0.07276007\n",
            " 0.07425135 0.07468431 0.07110042 0.07651233 0.07855683 0.08553217\n",
            " 0.08627781 0.09034275 0.09625977 0.10259771 0.09837643 0.09147779\n",
            " 0.0941015  0.09563208 0.09634151 0.09653898 0.09646524 0.09627581\n",
            " 0.09605893 0.09585958 0.09569869 0.09558504 0.09552162 0.09550852\n",
            " 0.0955439  0.09562449 0.09574572 0.09590204 0.09608728 0.09629509\n",
            " 0.09651911 0.09675351 0.09699295 0.09723295 0.09746981 0.09770068\n",
            " 0.09792352 0.0981371  0.09834074 0.09853435]\n",
            "\n",
            "30 day output: [[0.09871833]]\n",
            "\n",
            "Output for 30 days: \n",
            " [[0.09147778898477554], [0.09410149604082108], [0.09563207626342773], [0.09634150564670563], [0.0965389758348465], [0.09646523743867874], [0.09627580642700195], [0.0960589349269867], [0.0958595797419548], [0.09569869190454483], [0.09558504074811935], [0.09552162140607834], [0.09550851583480835], [0.09554389864206314], [0.09562449157238007], [0.09574571996927261], [0.09590204060077667], [0.09608728438615799], [0.09629508852958679], [0.0965191125869751], [0.09675350785255432], [0.09699294716119766], [0.09723295271396637], [0.09746981412172318], [0.09770067781209946], [0.09792352467775345], [0.09813709557056427], [0.09834074229001999], [0.09853435307741165], [0.09871833026409149]]\n"
          ],
          "name": "stdout"
        }
      ]
    },
    {
      "cell_type": "code",
      "metadata": {
        "colab": {
          "base_uri": "https://localhost:8080/"
        },
        "id": "6f7vquX01wDc",
        "outputId": "56f1e1f0-9d31-4c4c-dddf-7f1d1848c0d4"
      },
      "source": [
        "x_input.shape"
      ],
      "execution_count": null,
      "outputs": [
        {
          "output_type": "execute_result",
          "data": {
            "text/plain": [
              "(1, 100, 1)"
            ]
          },
          "metadata": {
            "tags": []
          },
          "execution_count": 29
        }
      ]
    },
    {
      "cell_type": "code",
      "metadata": {
        "id": "cQZzShYLc15f"
      },
      "source": [
        "day_new = np.arange(1, 101)\n",
        "day_pred = np.arange(101, 131)"
      ],
      "execution_count": null,
      "outputs": []
    },
    {
      "cell_type": "code",
      "metadata": {
        "id": "14BzGaRvc2AP",
        "colab": {
          "base_uri": "https://localhost:8080/"
        },
        "outputId": "cdc84186-f451-40be-bcaa-a898331e0b57"
      },
      "source": [
        "len(df1)"
      ],
      "execution_count": null,
      "outputs": [
        {
          "output_type": "execute_result",
          "data": {
            "text/plain": [
              "1257"
            ]
          },
          "metadata": {
            "tags": []
          },
          "execution_count": 31
        }
      ]
    },
    {
      "cell_type": "code",
      "metadata": {
        "id": "CQByxa5dgN-g",
        "colab": {
          "base_uri": "https://localhost:8080/",
          "height": 282
        },
        "outputId": "e929479c-c747-41d3-bf4b-1047991a716a"
      },
      "source": [
        "plt.plot(day_new, scaler.inverse_transform(df1[1157:])) #took data from 1157 since length df1 is 1257\n",
        "plt.plot(day_pred, scaler.inverse_transform(lst_output))"
      ],
      "execution_count": null,
      "outputs": [
        {
          "output_type": "execute_result",
          "data": {
            "text/plain": [
              "[<matplotlib.lines.Line2D at 0x7f4ae4982110>]"
            ]
          },
          "metadata": {
            "tags": []
          },
          "execution_count": 32
        },
        {
          "output_type": "display_data",
          "data": {
            "image/png": "[encoded data removed]",
            "text/plain": [
              "<Figure size 432x288 with 1 Axes>"
            ]
          },
          "metadata": {
            "tags": [],
            "needs_background": "light"
          }
        }
      ]
    },
    {
      "cell_type": "code",
      "metadata": {
        "id": "eWnydx7YdDFW",
        "colab": {
          "base_uri": "https://localhost:8080/",
          "height": 282
        },
        "outputId": "cbea4c93-952d-4e29-802b-c545d79d38ba"
      },
      "source": [
        "df3 = df1.tolist()\n",
        "df3.extend(lst_output)\n",
        "plt.plot(scaler.inverse_transform(df3[1000:]))"
      ],
      "execution_count": null,
      "outputs": [
        {
          "output_type": "execute_result",
          "data": {
            "text/plain": [
              "[<matplotlib.lines.Line2D at 0x7f4ae6eb7bd0>]"
            ]
          },
          "metadata": {
            "tags": []
          },
          "execution_count": 33
        },
        {
          "output_type": "display_data",
          "data": {
            "image/png": "[encoded data removed]",
            "text/plain": [
              "<Figure size 432x288 with 1 Axes>"
            ]
          },
          "metadata": {
            "tags": [],
            "needs_background": "light"
          }
        }
      ]
    }
  ]
}